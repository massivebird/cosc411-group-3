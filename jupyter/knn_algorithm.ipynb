{
 "cells": [
  {
   "cell_type": "code",
   "execution_count": 1,
   "id": "a258f23a-7290-47a4-aa74-ba7e5c5e7452",
   "metadata": {},
   "outputs": [],
   "source": [
    "import pandas as pd\n",
    "from sklearn.preprocessing import MinMaxScaler"
   ]
  },
  {
   "cell_type": "code",
   "execution_count": 2,
   "id": "140138f0-c733-4c4e-be73-619f22860db6",
   "metadata": {},
   "outputs": [],
   "source": [
    "# Load dataset\n",
    "df = pd.read_csv(\"OriginalDataset.csv\")"
   ]
  },
  {
   "cell_type": "code",
   "execution_count": 3,
   "id": "0bd6443e-1c95-42bc-99e7-c114931dc56c",
   "metadata": {},
   "outputs": [],
   "source": [
    "# Identify numerical columns (excluding 'Career')\n",
    "numerical_cols = df.columns[1:-1]  # Exclude 'Id' and 'Career'"
   ]
  },
  {
   "cell_type": "code",
   "execution_count": 4,
   "id": "1de168cf-caac-4237-ac11-55db13393ec9",
   "metadata": {},
   "outputs": [],
   "source": [
    "# Initialize Min-Max Scaler\n",
    "scaler = MinMaxScaler()"
   ]
  },
  {
   "cell_type": "code",
   "execution_count": 5,
   "id": "6886c001-04bb-48a0-9017-5c2f7ae6d61b",
   "metadata": {},
   "outputs": [],
   "source": [
    "\n",
    "# Apply Min-Max Scaling\n",
    "df[numerical_cols] = scaler.fit_transform(df[numerical_cols])"
   ]
  },
  {
   "cell_type": "code",
   "execution_count": 6,
   "id": "ce015207-c86b-4654-9d24-4f7c8e63c7e2",
   "metadata": {},
   "outputs": [],
   "source": [
    "# Save the normalized dataset\n",
    "df.to_csv(\"normalized_dataset.csv\", index=False)"
   ]
  },
  {
   "cell_type": "code",
   "execution_count": 7,
   "id": "1a50645e-3b46-4ef3-9351-0c667d53dc44",
   "metadata": {},
   "outputs": [
    {
     "name": "stdout",
     "output_type": "stream",
     "text": [
      "   Id   O_score   C_score   E_score   A_score   N_score  Numerical Aptitude  \\\n",
      "0   1  0.410029  0.867572  0.086822  0.345336  0.256214            0.966463   \n",
      "1   2  0.901180  0.358234  0.258915  0.527005  0.256214            0.339939   \n",
      "2   3  0.508850  0.546689  1.000000  0.708674  0.405354            0.509146   \n",
      "3   4  0.951327  0.886248  0.207752  0.399345  0.319312            0.762195   \n",
      "4   5  0.557522  0.679117  0.431008  0.963993  0.256214            0.373476   \n",
      "\n",
      "   Spatial Aptitude  Perceptual Aptitude  Abstract Reasoning  \\\n",
      "0          0.322206             0.595577            0.770932   \n",
      "1          0.886792             0.770932            0.526066   \n",
      "2          0.274311             0.543444            0.578199   \n",
      "3          0.435414             0.543444            1.000000   \n",
      "4          0.242380             0.508689            0.437599   \n",
      "\n",
      "   Verbal Reasoning              Career  \n",
      "0          0.453311          Accountant  \n",
      "1          0.434635    Graphic Designer  \n",
      "2          0.848896         Salesperson  \n",
      "3          0.716469  Research Scientist  \n",
      "4          0.886248             Teacher  \n"
     ]
    }
   ],
   "source": [
    "# Display first few rows\n",
    "print(df.head())"
   ]
  },
  {
   "cell_type": "code",
   "execution_count": 65,
   "id": "4dfcbc75-6da2-4f80-8200-94589b614e2e",
   "metadata": {},
   "outputs": [
    {
     "name": "stdout",
     "output_type": "stream",
     "text": [
      "Average Accuracy: 6.67%\n"
     ]
    }
   ],
   "source": [
    "import pandas as pd\n",
    "import numpy as np\n",
    "from sklearn.model_selection import LeaveOneOut\n",
    "from sklearn.neighbors import KNeighborsClassifier\n",
    "from sklearn.metrics import accuracy_score\n",
    "from sklearn.preprocessing import StandardScaler\n",
    "\n",
    "# Step 1: Load dataset from a CSV file\n",
    "data = pd.read_csv('normalized_dataset.csv')\n",
    "\n",
    "# Step 2: Split the data into features (X) and target label (y)\n",
    "X = data.iloc[:, :-1].values  # All rows, all columns except the last\n",
    "y = data.iloc[:, -1].values   # All rows, last column (career labels)\n",
    "\n",
    "# Step 3: Normalize the features\n",
    "scaler = StandardScaler()\n",
    "X_normalized = scaler.fit_transform(X)\n",
    "\n",
    "# Step 4: Initialize the KNN classifier\n",
    "knn = KNeighborsClassifier(n_neighbors=5)\n",
    "\n",
    "# Step 5: Initialize Leave-One-Out Cross-Validation (LOOCV)\n",
    "loocv = LeaveOneOut()\n",
    "\n",
    "accuracies = []\n",
    "\n",
    "# Step 6: Train and test the model using LOOCV\n",
    "for train_index, test_index in loocv.split(X_normalized):\n",
    "    X_train, X_test = X_normalized[train_index], X_normalized[test_index]\n",
    "    y_train, y_test = y[train_index], y[test_index]\n",
    "    \n",
    "    # Step 7: Train the KNN model on the training set\n",
    "    knn.fit(X_train, y_train)\n",
    "    \n",
    "    # Step 8: Predict the target value for the test set\n",
    "    y_pred = knn.predict(X_test)\n",
    "    \n",
    "    # Step 9: Calculate accuracy for this fold\n",
    "    accuracies.append(accuracy_score(y_test, y_pred))\n",
    "\n",
    "# Step 10: Calculate the average accuracy across all folds\n",
    "average_accuracy = np.mean(accuracies)\n",
    "\n",
    "# Output the result\n",
    "print(f\"Average Accuracy: {average_accuracy * 100:.2f}%\")\n"
   ]
  },
  {
   "cell_type": "code",
   "execution_count": 66,
   "id": "4d74dad0-37f0-454e-9499-ea698b02f23b",
   "metadata": {},
   "outputs": [
    {
     "name": "stdout",
     "output_type": "stream",
     "text": [
      "Best Parameters: {'metric': 'manhattan', 'n_neighbors': 3}\n",
      "Average Accuracy: 27.14%\n"
     ]
    }
   ],
   "source": [
    "import pandas as pd\n",
    "import numpy as np\n",
    "from sklearn.model_selection import KFold, GridSearchCV\n",
    "from sklearn.neighbors import KNeighborsClassifier\n",
    "from sklearn.metrics import accuracy_score\n",
    "from sklearn.preprocessing import StandardScaler\n",
    "\n",
    "# Step 1: Load dataset from a CSV file\n",
    "data = pd.read_csv('normalized_dataset.csv')\n",
    "\n",
    "# Step 2: Split the data into features (X) and target label (y)\n",
    "X = data.iloc[:, :-1].values  # All rows, all columns except the last\n",
    "y = data.iloc[:, -1].values   # All rows, last column (career labels)\n",
    "\n",
    "# Step 3: Normalize the features\n",
    "scaler = StandardScaler()\n",
    "X_normalized = scaler.fit_transform(X)\n",
    "\n",
    "# Step 4: Initialize K-Fold cross-validation\n",
    "kf = KFold(n_splits=5)\n",
    "\n",
    "# Step 5: Define a parameter grid for tuning KNN\n",
    "param_grid = {'n_neighbors': [3, 5, 7, 9, 11], 'metric': ['euclidean', 'manhattan']}\n",
    "\n",
    "# Step 6: Perform GridSearchCV to find the best parameters\n",
    "grid_search = GridSearchCV(KNeighborsClassifier(), param_grid, cv=kf, scoring='accuracy')\n",
    "grid_search.fit(X_normalized, y)\n",
    "\n",
    "# Step 7: Get the best parameters from GridSearchCV\n",
    "best_params = grid_search.best_params_\n",
    "print(f\"Best Parameters: {best_params}\")\n",
    "\n",
    "# Step 8: Train the model with the best parameters\n",
    "best_knn = grid_search.best_estimator_\n",
    "\n",
    "# Step 9: Evaluate the model using K-Fold cross-validation\n",
    "accuracies = []\n",
    "for train_index, test_index in kf.split(X_normalized):\n",
    "    X_train, X_test = X_normalized[train_index], X_normalized[test_index]\n",
    "    y_train, y_test = y[train_index], y[test_index]\n",
    "    \n",
    "    best_knn.fit(X_train, y_train)\n",
    "    y_pred = best_knn.predict(X_test)\n",
    "    accuracies.append(accuracy_score(y_test, y_pred))\n",
    "\n",
    "# Step 10: Calculate average accuracy\n",
    "average_accuracy = np.mean(accuracies)\n",
    "print(f\"Average Accuracy: {average_accuracy * 100:.2f}%\")\n"
   ]
  },
  {
   "cell_type": "code",
   "execution_count": 67,
   "id": "a016fff3-b145-4a57-bbc6-3d5181cb9766",
   "metadata": {},
   "outputs": [
    {
     "name": "stdout",
     "output_type": "stream",
     "text": [
      "Accuracy with PCA: 62.86%\n"
     ]
    }
   ],
   "source": [
    "import pandas as pd\n",
    "import numpy as np\n",
    "from sklearn.decomposition import PCA\n",
    "from sklearn.neighbors import KNeighborsClassifier\n",
    "from sklearn.metrics import accuracy_score\n",
    "from sklearn.preprocessing import StandardScaler\n",
    "\n",
    "# Step 1: Load your dataset from a CSV file\n",
    "data = pd.read_csv('normalized_dataset.csv')\n",
    "\n",
    "# Step 2: Split the data into features (X) and target label (y)\n",
    "X = data.iloc[:, :-1].values  # All rows, all columns except the last\n",
    "y = data.iloc[:, -1].values   # All rows, last column (career labels)\n",
    "\n",
    "# Step 3: Normalize the features\n",
    "scaler = StandardScaler()\n",
    "X_normalized = scaler.fit_transform(X)\n",
    "\n",
    "# Step 4: Apply PCA to reduce the dimensions\n",
    "pca = PCA(n_components=10) \n",
    "X_pca = pca.fit_transform(X_normalized)\n",
    "\n",
    "# Step 5: Initialize KNN classifier\n",
    "knn = KNeighborsClassifier(n_neighbors=2)\n",
    "\n",
    "# Step 6: Train the KNN model with PCA features\n",
    "knn.fit(X_pca, y)\n",
    "\n",
    "# Step 7: Predict the career labels\n",
    "y_pred = knn.predict(X_pca)\n",
    "\n",
    "# Step 8: Calculate accuracy\n",
    "accuracy = accuracy_score(y, y_pred)\n",
    "print(f\"Accuracy with PCA: {accuracy * 100:.2f}%\")\n"
   ]
  },
  {
   "cell_type": "code",
   "execution_count": null,
   "id": "1ecd93e3-64b6-4607-878a-690fed1c6139",
   "metadata": {},
   "outputs": [],
   "source": []
  }
 ],
 "metadata": {
  "kernelspec": {
   "display_name": "Python 3 (ipykernel)",
   "language": "python",
   "name": "python3"
  },
  "language_info": {
   "codemirror_mode": {
    "name": "ipython",
    "version": 3
   },
   "file_extension": ".py",
   "mimetype": "text/x-python",
   "name": "python",
   "nbconvert_exporter": "python",
   "pygments_lexer": "ipython3",
   "version": "3.13.0"
  }
 },
 "nbformat": 4,
 "nbformat_minor": 5
}
