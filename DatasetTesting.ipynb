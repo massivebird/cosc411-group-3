{
 "cells": [
  {
   "cell_type": "code",
   "execution_count": 4,
   "metadata": {},
   "outputs": [],
   "source": [
    "#Import pandas\n",
    "import pandas as pd"
   ]
  },
  {
   "cell_type": "code",
   "execution_count": 44,
   "metadata": {},
   "outputs": [],
   "source": [
    "#Import the dataset\n",
    "dataset = pd.read_csv(\"CareerPredictionDataset.csv\")"
   ]
  },
  {
   "cell_type": "code",
   "execution_count": 45,
   "metadata": {},
   "outputs": [
    {
     "data": {
      "text/html": [
       "<div>\n",
       "<style scoped>\n",
       "    .dataframe tbody tr th:only-of-type {\n",
       "        vertical-align: middle;\n",
       "    }\n",
       "\n",
       "    .dataframe tbody tr th {\n",
       "        vertical-align: top;\n",
       "    }\n",
       "\n",
       "    .dataframe thead th {\n",
       "        text-align: right;\n",
       "    }\n",
       "</style>\n",
       "<table border=\"1\" class=\"dataframe\">\n",
       "  <thead>\n",
       "    <tr style=\"text-align: right;\">\n",
       "      <th></th>\n",
       "      <th>Sr.No.</th>\n",
       "      <th>Course</th>\n",
       "      <th>Job profession</th>\n",
       "      <th>Student</th>\n",
       "      <th>Linguistic</th>\n",
       "      <th>Musical</th>\n",
       "      <th>Bodily</th>\n",
       "      <th>Logical - Mathematical</th>\n",
       "      <th>Spatial-Visualization</th>\n",
       "      <th>Interpersonal</th>\n",
       "      <th>...</th>\n",
       "      <th>Naturalist</th>\n",
       "      <th>Unnamed: 12</th>\n",
       "      <th>Unnamed: 13</th>\n",
       "      <th>Unnamed: 14</th>\n",
       "      <th>Unnamed: 15</th>\n",
       "      <th>Unnamed: 16</th>\n",
       "      <th>Unnamed: 17</th>\n",
       "      <th>Unnamed: 18</th>\n",
       "      <th>Unnamed: 19</th>\n",
       "      <th>Unnamed: 20</th>\n",
       "    </tr>\n",
       "  </thead>\n",
       "  <tbody>\n",
       "    <tr>\n",
       "      <th>0</th>\n",
       "      <td>1.0</td>\n",
       "      <td>NaN</td>\n",
       "      <td>Astronomer\\n</td>\n",
       "      <td>S1</td>\n",
       "      <td>11.0</td>\n",
       "      <td>5.0</td>\n",
       "      <td>12.0</td>\n",
       "      <td>16.0</td>\n",
       "      <td>17.0</td>\n",
       "      <td>11.0</td>\n",
       "      <td>...</td>\n",
       "      <td>19.0</td>\n",
       "      <td>NaN</td>\n",
       "      <td>NaN</td>\n",
       "      <td>NaN</td>\n",
       "      <td>NaN</td>\n",
       "      <td>NaN</td>\n",
       "      <td>NaN</td>\n",
       "      <td>NaN</td>\n",
       "      <td>NaN</td>\n",
       "      <td>NaN</td>\n",
       "    </tr>\n",
       "    <tr>\n",
       "      <th>1</th>\n",
       "      <td>NaN</td>\n",
       "      <td>NaN</td>\n",
       "      <td>Astronomer\\n</td>\n",
       "      <td>S2</td>\n",
       "      <td>12.0</td>\n",
       "      <td>6.0</td>\n",
       "      <td>12.0</td>\n",
       "      <td>16.0</td>\n",
       "      <td>16.0</td>\n",
       "      <td>11.0</td>\n",
       "      <td>...</td>\n",
       "      <td>19.0</td>\n",
       "      <td>NaN</td>\n",
       "      <td>NaN</td>\n",
       "      <td>NaN</td>\n",
       "      <td>NaN</td>\n",
       "      <td>NaN</td>\n",
       "      <td>NaN</td>\n",
       "      <td>NaN</td>\n",
       "      <td>NaN</td>\n",
       "      <td>NaN</td>\n",
       "    </tr>\n",
       "    <tr>\n",
       "      <th>2</th>\n",
       "      <td>NaN</td>\n",
       "      <td>NaN</td>\n",
       "      <td>Astronomer\\n</td>\n",
       "      <td>S3</td>\n",
       "      <td>13.0</td>\n",
       "      <td>7.0</td>\n",
       "      <td>12.0</td>\n",
       "      <td>16.0</td>\n",
       "      <td>15.0</td>\n",
       "      <td>11.0</td>\n",
       "      <td>...</td>\n",
       "      <td>19.0</td>\n",
       "      <td>NaN</td>\n",
       "      <td>NaN</td>\n",
       "      <td>NaN</td>\n",
       "      <td>NaN</td>\n",
       "      <td>NaN</td>\n",
       "      <td>NaN</td>\n",
       "      <td>NaN</td>\n",
       "      <td>NaN</td>\n",
       "      <td>NaN</td>\n",
       "    </tr>\n",
       "    <tr>\n",
       "      <th>3</th>\n",
       "      <td>NaN</td>\n",
       "      <td>NaN</td>\n",
       "      <td>Astronomer\\n</td>\n",
       "      <td>S4</td>\n",
       "      <td>14.0</td>\n",
       "      <td>8.0</td>\n",
       "      <td>12.0</td>\n",
       "      <td>16.0</td>\n",
       "      <td>19.0</td>\n",
       "      <td>11.0</td>\n",
       "      <td>...</td>\n",
       "      <td>19.0</td>\n",
       "      <td>NaN</td>\n",
       "      <td>NaN</td>\n",
       "      <td>NaN</td>\n",
       "      <td>NaN</td>\n",
       "      <td>NaN</td>\n",
       "      <td>NaN</td>\n",
       "      <td>NaN</td>\n",
       "      <td>NaN</td>\n",
       "      <td>NaN</td>\n",
       "    </tr>\n",
       "    <tr>\n",
       "      <th>4</th>\n",
       "      <td>NaN</td>\n",
       "      <td>NaN</td>\n",
       "      <td>Astronomer\\n</td>\n",
       "      <td>S5</td>\n",
       "      <td>13.0</td>\n",
       "      <td>9.0</td>\n",
       "      <td>12.0</td>\n",
       "      <td>16.0</td>\n",
       "      <td>20.0</td>\n",
       "      <td>11.0</td>\n",
       "      <td>...</td>\n",
       "      <td>19.0</td>\n",
       "      <td>NaN</td>\n",
       "      <td>NaN</td>\n",
       "      <td>NaN</td>\n",
       "      <td>NaN</td>\n",
       "      <td>NaN</td>\n",
       "      <td>NaN</td>\n",
       "      <td>NaN</td>\n",
       "      <td>NaN</td>\n",
       "      <td>NaN</td>\n",
       "    </tr>\n",
       "  </tbody>\n",
       "</table>\n",
       "<p>5 rows × 21 columns</p>\n",
       "</div>"
      ],
      "text/plain": [
       "   Sr.No.  Course Job profession Student  Linguistic  Musical  Bodily  \\\n",
       "0     1.0     NaN   Astronomer\\n      S1        11.0      5.0    12.0   \n",
       "1     NaN     NaN   Astronomer\\n      S2        12.0      6.0    12.0   \n",
       "2     NaN     NaN   Astronomer\\n      S3        13.0      7.0    12.0   \n",
       "3     NaN     NaN   Astronomer\\n      S4        14.0      8.0    12.0   \n",
       "4     NaN     NaN   Astronomer\\n      S5        13.0      9.0    12.0   \n",
       "\n",
       "   Logical - Mathematical  Spatial-Visualization  Interpersonal  ...  \\\n",
       "0                    16.0                   17.0           11.0  ...   \n",
       "1                    16.0                   16.0           11.0  ...   \n",
       "2                    16.0                   15.0           11.0  ...   \n",
       "3                    16.0                   19.0           11.0  ...   \n",
       "4                    16.0                   20.0           11.0  ...   \n",
       "\n",
       "   Naturalist  Unnamed: 12  Unnamed: 13  Unnamed: 14  Unnamed: 15  \\\n",
       "0        19.0          NaN          NaN          NaN          NaN   \n",
       "1        19.0          NaN          NaN          NaN          NaN   \n",
       "2        19.0          NaN          NaN          NaN          NaN   \n",
       "3        19.0          NaN          NaN          NaN          NaN   \n",
       "4        19.0          NaN          NaN          NaN          NaN   \n",
       "\n",
       "   Unnamed: 16  Unnamed: 17  Unnamed: 18  Unnamed: 19  Unnamed: 20  \n",
       "0          NaN          NaN          NaN          NaN          NaN  \n",
       "1          NaN          NaN          NaN          NaN          NaN  \n",
       "2          NaN          NaN          NaN          NaN          NaN  \n",
       "3          NaN          NaN          NaN          NaN          NaN  \n",
       "4          NaN          NaN          NaN          NaN          NaN  \n",
       "\n",
       "[5 rows x 21 columns]"
      ]
     },
     "execution_count": 45,
     "metadata": {},
     "output_type": "execute_result"
    }
   ],
   "source": [
    "#View the dataset\n",
    "dataset.head()"
   ]
  },
  {
   "cell_type": "code",
   "execution_count": 46,
   "metadata": {},
   "outputs": [
    {
     "name": "stdout",
     "output_type": "stream",
     "text": [
      "0      NaN\n",
      "1      NaN\n",
      "2      NaN\n",
      "3      NaN\n",
      "4      NaN\n",
      "        ..\n",
      "3994   NaN\n",
      "3995   NaN\n",
      "3996   NaN\n",
      "3997   NaN\n",
      "3998   NaN\n",
      "Name: Unnamed: 12, Length: 3999, dtype: float64\n"
     ]
    }
   ],
   "source": [
    "print(dataset['Unnamed: 12'])"
   ]
  },
  {
   "cell_type": "code",
   "execution_count": 47,
   "metadata": {},
   "outputs": [],
   "source": [
    "#Drop the last 12-20 columns\n",
    "dataset.drop(['Unnamed: 12', 'Unnamed: 13', 'Unnamed: 14', 'Unnamed: 15', 'Unnamed: 16', 'Unnamed: 17', 'Unnamed: 18', 'Unnamed: 19', 'Unnamed: 20',], axis=1, inplace=True)"
   ]
  },
  {
   "cell_type": "code",
   "execution_count": 48,
   "metadata": {},
   "outputs": [],
   "source": [
    "#Drop columns 1 and 2\n",
    "dataset.drop(['Sr.No.', 'Course', 'Student'], axis=1, inplace=True)"
   ]
  },
  {
   "cell_type": "code",
   "execution_count": 50,
   "metadata": {},
   "outputs": [
    {
     "name": "stdout",
     "output_type": "stream",
     "text": [
      "     Job profession  Linguistic  Musical  Bodily  Logical - Mathematical  \\\n",
      "0      Astronomer\\n        11.0      5.0    12.0                    16.0   \n",
      "1      Astronomer\\n        12.0      6.0    12.0                    16.0   \n",
      "2      Astronomer\\n        13.0      7.0    12.0                    16.0   \n",
      "3      Astronomer\\n        14.0      8.0    12.0                    16.0   \n",
      "4      Astronomer\\n        13.0      9.0    12.0                    16.0   \n",
      "...             ...         ...      ...     ...                     ...   \n",
      "3994            NaN         NaN      NaN     NaN                     NaN   \n",
      "3995            NaN         NaN      NaN     NaN                     NaN   \n",
      "3996            NaN         NaN      NaN     NaN                     NaN   \n",
      "3997            NaN         NaN      NaN     NaN                     NaN   \n",
      "3998            NaN         NaN      NaN     NaN                     NaN   \n",
      "\n",
      "      Spatial-Visualization  Interpersonal  Intrapersonal  Naturalist  \n",
      "0                      17.0           11.0           18.0        19.0  \n",
      "1                      16.0           11.0           18.0        19.0  \n",
      "2                      15.0           11.0           18.0        19.0  \n",
      "3                      19.0           11.0           18.0        19.0  \n",
      "4                      20.0           11.0           19.0        19.0  \n",
      "...                     ...            ...            ...         ...  \n",
      "3994                    NaN            NaN            NaN         NaN  \n",
      "3995                    NaN            NaN            NaN         NaN  \n",
      "3996                    NaN            NaN            NaN         NaN  \n",
      "3997                    NaN            NaN            NaN         NaN  \n",
      "3998                    NaN            NaN            NaN         NaN  \n",
      "\n",
      "[3999 rows x 9 columns]\n"
     ]
    }
   ],
   "source": [
    "#Save dataset to csv file\n",
    "dataset.to_csv('testDataset.csv', index=False)\n",
    "\n",
    "#Show the dataset\n",
    "print(dataset)"
   ]
  },
  {
   "cell_type": "code",
   "execution_count": 51,
   "metadata": {},
   "outputs": [
    {
     "name": "stdout",
     "output_type": "stream",
     "text": [
      "Job profession            399\n",
      "Linguistic                399\n",
      "Musical                   399\n",
      "Bodily                    399\n",
      "Logical - Mathematical    399\n",
      "Spatial-Visualization     399\n",
      "Interpersonal             399\n",
      "Intrapersonal             399\n",
      "Naturalist                399\n",
      "dtype: int64\n"
     ]
    }
   ],
   "source": [
    "#Count Nan\n",
    "nan_counts_col = dataset.isna().sum()\n",
    "print(nan_counts_col)"
   ]
  },
  {
   "cell_type": "code",
   "execution_count": 55,
   "metadata": {},
   "outputs": [],
   "source": [
    "#Remove na value\n",
    "dataset = dataset.dropna()"
   ]
  },
  {
   "cell_type": "code",
   "execution_count": 56,
   "metadata": {},
   "outputs": [],
   "source": [
    "#Save to csv file\n",
    "dataset.to_csv('testDataset.csv', index=False)"
   ]
  },
  {
   "cell_type": "code",
   "execution_count": 53,
   "metadata": {},
   "outputs": [
    {
     "name": "stdout",
     "output_type": "stream",
     "text": [
      "['Astronomer\\n' 'Geologist' 'Marine Biologist\\n' 'Veterinarian'\n",
      " 'Nature photographer' 'Recording engineer' 'Audiologist' 'Sound editor'\n",
      " 'Music teacher' 'Actuary' 'Chartered Accountant' 'Computer analyst'\n",
      " 'Computer programmer' 'Database designer' 'Economist' 'Librarian'\n",
      " 'Engineer' 'Lawyer' 'Pharmacist' 'Physician' 'Physicist' 'Mathematician'\n",
      " 'Leader' 'Manager' 'Politician' 'Social Worker' 'Receptionist'\n",
      " 'Sales Representative' 'Counselor' 'Athlete' 'Dancer' 'Mechanic'\n",
      " 'Actor / Actress' 'Physical Therapist' 'Editor' 'Historian' 'Journalist'\n",
      " 'Language Teacher' 'Poet' 'Broadcaster' 'Artist' 'Graphic Designer'\n",
      " 'Fashion Designer' 'Interior Decorator' 'Pilot' 'Psychologist'\n",
      " 'Philosopher' 'Writer' 'Criminologist' 'Company secretary' 'Marketing'\n",
      " 'Logistics manager' 'Research analyst' 'Business manager'\n",
      " 'Internal auditor' 'Chief financial officer' 'Business Analyst' 'Banking'\n",
      " 'Stock Broker' 'Financial Advisor' 'Consultant' 'Archeologist'\n",
      " 'Pre Primary Teacher (2020 NEP and Mental Health)' 'Primary Teacher'\n",
      " 'Middle, Higher School Teacher and Professors' 'Anthropologist' 'Medical'\n",
      " 'Para Medical (physiotherapy, occupational theropy, audio and speech language theropy, nursing)'\n",
      " 'Militry'\n",
      " 'Para Militry (https://en.wikipedia.org/wiki/Paramilitary_forces_of_India)'\n",
      " 'Police Force (Spies, CBI officials, CID, Detectives)' 'Technician' nan]\n"
     ]
    }
   ],
   "source": [
    "#Get unique jobs\n",
    "unique_jobs = dataset['Job profession'].unique()\n",
    "print(unique_jobs)"
   ]
  },
  {
   "cell_type": "code",
   "execution_count": 27,
   "metadata": {},
   "outputs": [],
   "source": [
    "#Import the required libraries\n",
    "import pandas as pd\n",
    "import numpy as np\n",
    "import tensorflow as tf\n",
    "from sklearn.model_selection import train_test_split\n",
    "from sklearn.preprocessing import MinMaxScaler\n",
    "from sklearn.preprocessing import LabelEncoder"
   ]
  },
  {
   "cell_type": "code",
   "execution_count": 28,
   "metadata": {},
   "outputs": [],
   "source": [
    "#Rename dataset to data to manipulate it\n",
    "data = dataset\n",
    "\n",
    "#Split the data into features and target variable\n",
    "x = data.drop('Job profession', axis=1)\n",
    "y = data['Job profession']"
   ]
  },
  {
   "cell_type": "code",
   "execution_count": 29,
   "metadata": {},
   "outputs": [],
   "source": [
    "#Convert the data in y to numbers\n",
    "le = LabelEncoder()\n",
    "y = le.fit_transform(y)\n",
    "y = y.reshape(-1, 1)"
   ]
  },
  {
   "cell_type": "code",
   "execution_count": 30,
   "metadata": {},
   "outputs": [],
   "source": [
    "#Create the train and test sets\n",
    "x_train, x_test, y_train, y_test = train_test_split(x, y, test_size=0.2, random_state=42)"
   ]
  },
  {
   "cell_type": "code",
   "execution_count": 31,
   "metadata": {},
   "outputs": [
    {
     "data": {
      "text/html": [
       "<div>\n",
       "<style scoped>\n",
       "    .dataframe tbody tr th:only-of-type {\n",
       "        vertical-align: middle;\n",
       "    }\n",
       "\n",
       "    .dataframe tbody tr th {\n",
       "        vertical-align: top;\n",
       "    }\n",
       "\n",
       "    .dataframe thead th {\n",
       "        text-align: right;\n",
       "    }\n",
       "</style>\n",
       "<table border=\"1\" class=\"dataframe\">\n",
       "  <thead>\n",
       "    <tr style=\"text-align: right;\">\n",
       "      <th></th>\n",
       "      <th>Linguistic</th>\n",
       "      <th>Musical</th>\n",
       "      <th>Bodily</th>\n",
       "      <th>Logical - Mathematical</th>\n",
       "      <th>Spatial-Visualization</th>\n",
       "      <th>Interpersonal</th>\n",
       "      <th>Intrapersonal</th>\n",
       "      <th>Naturalist</th>\n",
       "    </tr>\n",
       "  </thead>\n",
       "  <tbody>\n",
       "    <tr>\n",
       "      <th>1575</th>\n",
       "      <td>6.0</td>\n",
       "      <td>8.0</td>\n",
       "      <td>18.0</td>\n",
       "      <td>17.0</td>\n",
       "      <td>12.0</td>\n",
       "      <td>13.0</td>\n",
       "      <td>9.0</td>\n",
       "      <td>14.0</td>\n",
       "    </tr>\n",
       "    <tr>\n",
       "      <th>506</th>\n",
       "      <td>13.0</td>\n",
       "      <td>5.0</td>\n",
       "      <td>13.0</td>\n",
       "      <td>15.0</td>\n",
       "      <td>7.0</td>\n",
       "      <td>16.0</td>\n",
       "      <td>13.0</td>\n",
       "      <td>6.0</td>\n",
       "    </tr>\n",
       "    <tr>\n",
       "      <th>3593</th>\n",
       "      <td>6.0</td>\n",
       "      <td>6.0</td>\n",
       "      <td>17.0</td>\n",
       "      <td>14.0</td>\n",
       "      <td>11.0</td>\n",
       "      <td>18.0</td>\n",
       "      <td>14.0</td>\n",
       "      <td>12.0</td>\n",
       "    </tr>\n",
       "    <tr>\n",
       "      <th>3562</th>\n",
       "      <td>5.0</td>\n",
       "      <td>6.0</td>\n",
       "      <td>20.0</td>\n",
       "      <td>13.0</td>\n",
       "      <td>12.0</td>\n",
       "      <td>17.0</td>\n",
       "      <td>11.0</td>\n",
       "      <td>13.0</td>\n",
       "    </tr>\n",
       "    <tr>\n",
       "      <th>3220</th>\n",
       "      <td>14.0</td>\n",
       "      <td>11.0</td>\n",
       "      <td>13.0</td>\n",
       "      <td>17.0</td>\n",
       "      <td>7.0</td>\n",
       "      <td>17.0</td>\n",
       "      <td>18.0</td>\n",
       "      <td>10.0</td>\n",
       "    </tr>\n",
       "  </tbody>\n",
       "</table>\n",
       "</div>"
      ],
      "text/plain": [
       "      Linguistic  Musical  Bodily  Logical - Mathematical  \\\n",
       "1575         6.0      8.0    18.0                    17.0   \n",
       "506         13.0      5.0    13.0                    15.0   \n",
       "3593         6.0      6.0    17.0                    14.0   \n",
       "3562         5.0      6.0    20.0                    13.0   \n",
       "3220        14.0     11.0    13.0                    17.0   \n",
       "\n",
       "      Spatial-Visualization  Interpersonal  Intrapersonal  Naturalist  \n",
       "1575                   12.0           13.0            9.0        14.0  \n",
       "506                     7.0           16.0           13.0         6.0  \n",
       "3593                   11.0           18.0           14.0        12.0  \n",
       "3562                   12.0           17.0           11.0        13.0  \n",
       "3220                    7.0           17.0           18.0        10.0  "
      ]
     },
     "execution_count": 31,
     "metadata": {},
     "output_type": "execute_result"
    }
   ],
   "source": [
    "#Check\n",
    "x_train.head()"
   ]
  },
  {
   "cell_type": "code",
   "execution_count": 32,
   "metadata": {},
   "outputs": [],
   "source": [
    "#Standardize the features\n",
    "scaler = MinMaxScaler()\n",
    "x_train = scaler.fit_transform(x_train)\n",
    "x_test = scaler.transform(x_test)\n",
    "y_train = scaler.fit_transform(y_train)\n",
    "y_test = scaler.transform(y_test)"
   ]
  },
  {
   "cell_type": "code",
   "execution_count": 35,
   "metadata": {},
   "outputs": [
    {
     "data": {
      "text/plain": [
       "array([[0.06666667, 0.2       , 0.86666667, ..., 0.61111111, 0.26666667,\n",
       "        0.7       ],\n",
       "       [0.53333333, 0.        , 0.53333333, ..., 0.77777778, 0.53333333,\n",
       "        0.3       ],\n",
       "       [0.06666667, 0.06666667, 0.8       , ..., 0.88888889, 0.6       ,\n",
       "        0.6       ],\n",
       "       ...,\n",
       "       [0.73333333, 0.        , 0.4       , ..., 0.83333333, 0.73333333,\n",
       "        0.25      ],\n",
       "       [0.06666667, 0.06666667, 0.86666667, ..., 1.        , 0.46666667,\n",
       "        0.6       ],\n",
       "       [0.73333333, 1.        , 1.        , ..., 0.55555556, 0.6       ,\n",
       "        0.3       ]])"
      ]
     },
     "execution_count": 35,
     "metadata": {},
     "output_type": "execute_result"
    }
   ],
   "source": [
    "#Check\n",
    "x_train"
   ]
  },
  {
   "cell_type": "code",
   "execution_count": 39,
   "metadata": {},
   "outputs": [
    {
     "name": "stderr",
     "output_type": "stream",
     "text": [
      "c:\\Users\\user\\anaconda3\\envs\\env1\\Lib\\site-packages\\keras\\src\\layers\\core\\dense.py:87: UserWarning: Do not pass an `input_shape`/`input_dim` argument to a layer. When using Sequential models, prefer using an `Input(shape)` object as the first layer in the model instead.\n",
      "  super().__init__(activity_regularizer=activity_regularizer, **kwargs)\n"
     ]
    }
   ],
   "source": [
    "#Build the simple neural network\n",
    "model = tf.keras.Sequential([\n",
    "    tf.keras.layers.Dense(256, activation='relu', input_shape=(x_train.shape[1],)),\n",
    "    tf.keras.layers.Dense(128, activation='relu'),\n",
    "    tf.keras.layers.Dense(64, activation='relu'),\n",
    "    tf.keras.layers.Dense(32, activation='relu'),\n",
    "    tf.keras.layers.Dense(1)  # Output layer, adjust activation based on your problem\n",
    "])"
   ]
  },
  {
   "cell_type": "code",
   "execution_count": 40,
   "metadata": {},
   "outputs": [],
   "source": [
    "#Compile the model\n",
    "model.compile(optimizer='adam', loss='mse', metrics=['accuracy'])"
   ]
  },
  {
   "cell_type": "code",
   "execution_count": 43,
   "metadata": {},
   "outputs": [
    {
     "name": "stdout",
     "output_type": "stream",
     "text": [
      "Epoch 1/10\n",
      "\u001b[1m20/20\u001b[0m \u001b[32m━━━━━━━━━━━━━━━━━━━━\u001b[0m\u001b[37m\u001b[0m \u001b[1m0s\u001b[0m 13ms/step - accuracy: 0.0999 - loss: 0.0986 - val_accuracy: 0.1063 - val_loss: 0.0993\n",
      "Epoch 2/10\n",
      "\u001b[1m20/20\u001b[0m \u001b[32m━━━━━━━━━━━━━━━━━━━━\u001b[0m\u001b[37m\u001b[0m \u001b[1m0s\u001b[0m 11ms/step - accuracy: 0.1099 - loss: 0.0999 - val_accuracy: 0.1063 - val_loss: 0.1004\n",
      "Epoch 3/10\n",
      "\u001b[1m20/20\u001b[0m \u001b[32m━━━━━━━━━━━━━━━━━━━━\u001b[0m\u001b[37m\u001b[0m \u001b[1m0s\u001b[0m 11ms/step - accuracy: 0.0991 - loss: 0.1000 - val_accuracy: 0.1063 - val_loss: 0.0993\n",
      "Epoch 4/10\n",
      "\u001b[1m20/20\u001b[0m \u001b[32m━━━━━━━━━━━━━━━━━━━━\u001b[0m\u001b[37m\u001b[0m \u001b[1m0s\u001b[0m 10ms/step - accuracy: 0.0704 - loss: 0.0984 - val_accuracy: 0.1063 - val_loss: 0.1009\n",
      "Epoch 5/10\n",
      "\u001b[1m20/20\u001b[0m \u001b[32m━━━━━━━━━━━━━━━━━━━━\u001b[0m\u001b[37m\u001b[0m \u001b[1m0s\u001b[0m 11ms/step - accuracy: 0.0957 - loss: 0.0991 - val_accuracy: 0.1063 - val_loss: 0.0994\n",
      "Epoch 6/10\n",
      "\u001b[1m20/20\u001b[0m \u001b[32m━━━━━━━━━━━━━━━━━━━━\u001b[0m\u001b[37m\u001b[0m \u001b[1m0s\u001b[0m 11ms/step - accuracy: 0.0941 - loss: 0.0988 - val_accuracy: 0.1063 - val_loss: 0.0994\n",
      "Epoch 7/10\n",
      "\u001b[1m20/20\u001b[0m \u001b[32m━━━━━━━━━━━━━━━━━━━━\u001b[0m\u001b[37m\u001b[0m \u001b[1m0s\u001b[0m 9ms/step - accuracy: 0.0996 - loss: 0.1006 - val_accuracy: 0.1063 - val_loss: 0.0994\n",
      "Epoch 8/10\n",
      "\u001b[1m20/20\u001b[0m \u001b[32m━━━━━━━━━━━━━━━━━━━━\u001b[0m\u001b[37m\u001b[0m \u001b[1m0s\u001b[0m 9ms/step - accuracy: 0.1024 - loss: 0.0963 - val_accuracy: 0.1063 - val_loss: 0.0995\n",
      "Epoch 9/10\n",
      "\u001b[1m20/20\u001b[0m \u001b[32m━━━━━━━━━━━━━━━━━━━━\u001b[0m\u001b[37m\u001b[0m \u001b[1m0s\u001b[0m 8ms/step - accuracy: 0.0938 - loss: 0.0970 - val_accuracy: 0.1063 - val_loss: 0.0993\n",
      "Epoch 10/10\n",
      "\u001b[1m20/20\u001b[0m \u001b[32m━━━━━━━━━━━━━━━━━━━━\u001b[0m\u001b[37m\u001b[0m \u001b[1m0s\u001b[0m 8ms/step - accuracy: 0.1063 - loss: 0.1016 - val_accuracy: 0.1063 - val_loss: 0.0993\n"
     ]
    },
    {
     "data": {
      "text/plain": [
       "<keras.src.callbacks.history.History at 0x1fd3c4a17f0>"
      ]
     },
     "execution_count": 43,
     "metadata": {},
     "output_type": "execute_result"
    }
   ],
   "source": [
    "#Train the model \n",
    "model.fit(x_train, y_train, epochs=10, batch_size=150, validation_split=0.1)"
   ]
  }
 ],
 "metadata": {
  "kernelspec": {
   "display_name": "env1",
   "language": "python",
   "name": "python3"
  },
  "language_info": {
   "codemirror_mode": {
    "name": "ipython",
    "version": 3
   },
   "file_extension": ".py",
   "mimetype": "text/x-python",
   "name": "python",
   "nbconvert_exporter": "python",
   "pygments_lexer": "ipython3",
   "version": "3.12.6"
  }
 },
 "nbformat": 4,
 "nbformat_minor": 2
}
