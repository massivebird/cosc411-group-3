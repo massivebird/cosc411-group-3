{
 "cells": [
  {
   "cell_type": "code",
   "execution_count": 1,
   "metadata": {},
   "outputs": [
    {
     "name": "stdout",
     "output_type": "stream",
     "text": [
      "c:\\Users\\user\\anaconda3\\envs\\env1\n",
      "c:\\Users\\user\\anaconda3\\envs\\env1\n",
      "Not running inside a virtual environment.\n"
     ]
    }
   ],
   "source": [
    "# import system module\n",
    "import sys\n",
    "\n",
    "print(sys.base_prefix)\n",
    "print(sys.prefix)\n",
    "\n",
    "# check if virtual environment is active or not\n",
    "def is_virtualenv():\n",
    "    return hasattr(sys, 'real_prefix') or (hasattr(sys, 'base_prefix') and sys.base_prefix != sys.prefix)\n",
    "\n",
    "if is_virtualenv():\n",
    "    print(\"Running inside a virtual environment.\")\n",
    "else:\n",
    "    print(\"Not running inside a virtual environment.\")\n"
   ]
  },
  {
   "cell_type": "code",
   "execution_count": null,
   "metadata": {},
   "outputs": [],
   "source": []
  },
  {
   "cell_type": "code",
   "execution_count": 1,
   "metadata": {},
   "outputs": [],
   "source": [
    "import pandas as pd\n"
   ]
  }
 ],
 "metadata": {
  "kernelspec": {
   "display_name": "env1",
   "language": "python",
   "name": "python3"
  },
  "language_info": {
   "codemirror_mode": {
    "name": "ipython",
    "version": 3
   },
   "file_extension": ".py",
   "mimetype": "text/x-python",
   "name": "python",
   "nbconvert_exporter": "python",
   "pygments_lexer": "ipython3",
   "version": "3.12.6"
  }
 },
 "nbformat": 4,
 "nbformat_minor": 2
}
