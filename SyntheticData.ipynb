{
 "cells": [
  {
   "cell_type": "code",
   "execution_count": 2,
   "metadata": {},
   "outputs": [],
   "source": [
    "#Import the required libraries\n",
    "import pandas as pd\n",
    "import sdv\n"
   ]
  },
  {
   "cell_type": "code",
   "execution_count": 3,
   "metadata": {},
   "outputs": [
    {
     "name": "stdout",
     "output_type": "stream",
     "text": [
      "   Id  O_score  C_score  E_score  A_score  N_score  Numerical Aptitude  \\\n",
      "0   1     5.45     8.67     3.45     5.34     4.23                9.23   \n",
      "1   2     8.78     5.67     4.56     6.45     4.23                5.12   \n",
      "2   3     6.12     6.78     9.34     7.56     5.01                6.23   \n",
      "3   4     9.12     8.78     4.23     5.67     4.56                7.89   \n",
      "4   5     6.45     7.56     5.67     9.12     4.23                5.34   \n",
      "\n",
      "   Spatial Aptitude  Perceptual Aptitude  Abstract Reasoning  \\\n",
      "0              4.56                 6.78                7.89   \n",
      "1              8.45                 7.89                6.34   \n",
      "2              4.23                 6.45                6.67   \n",
      "3              5.34                 6.45                9.34   \n",
      "4              4.01                 6.23                5.78   \n",
      "\n",
      "   Verbal Reasoning              Career  \n",
      "0              6.12          Accountant  \n",
      "1              6.01    Graphic Designer  \n",
      "2              8.45         Salesperson  \n",
      "3              7.67  Research Scientist  \n",
      "4              8.67             Teacher  \n"
     ]
    }
   ],
   "source": [
    "#Import the dataset\n",
    "real_data = pd.read_csv('OriginalDataset.csv')\n",
    "\n",
    "#Print the first five rows of the data\n",
    "print(real_data.head())"
   ]
  },
  {
   "cell_type": "code",
   "execution_count": 4,
   "metadata": {},
   "outputs": [
    {
     "name": "stdout",
     "output_type": "stream",
     "text": [
      "{\n",
      "    \"tables\": {\n",
      "        \"table\": {\n",
      "            \"primary_key\": \"Id\",\n",
      "            \"columns\": {\n",
      "                \"Id\": {\n",
      "                    \"sdtype\": \"id\"\n",
      "                },\n",
      "                \"O_score\": {\n",
      "                    \"sdtype\": \"numerical\"\n",
      "                },\n",
      "                \"C_score\": {\n",
      "                    \"sdtype\": \"numerical\"\n",
      "                },\n",
      "                \"E_score\": {\n",
      "                    \"sdtype\": \"numerical\"\n",
      "                },\n",
      "                \"A_score\": {\n",
      "                    \"sdtype\": \"numerical\"\n",
      "                },\n",
      "                \"N_score\": {\n",
      "                    \"sdtype\": \"numerical\"\n",
      "                },\n",
      "                \"Numerical Aptitude\": {\n",
      "                    \"sdtype\": \"numerical\"\n",
      "                },\n",
      "                \"Spatial Aptitude\": {\n",
      "                    \"sdtype\": \"numerical\"\n",
      "                },\n",
      "                \"Perceptual Aptitude\": {\n",
      "                    \"sdtype\": \"numerical\"\n",
      "                },\n",
      "                \"Abstract Reasoning\": {\n",
      "                    \"sdtype\": \"numerical\"\n",
      "                },\n",
      "                \"Verbal Reasoning\": {\n",
      "                    \"sdtype\": \"numerical\"\n",
      "                },\n",
      "                \"Career\": {\n",
      "                    \"sdtype\": \"unknown\",\n",
      "                    \"pii\": true\n",
      "                }\n",
      "            }\n",
      "        }\n",
      "    },\n",
      "    \"relationships\": [],\n",
      "    \"METADATA_SPEC_VERSION\": \"V1\"\n",
      "}\n"
     ]
    }
   ],
   "source": [
    "#Visualize the metadata\n",
    "from sdv.metadata import Metadata\n",
    "\n",
    "metadata = Metadata.detect_from_dataframe(data = real_data)\n",
    "print(metadata)"
   ]
  },
  {
   "cell_type": "code",
   "execution_count": 5,
   "metadata": {},
   "outputs": [
    {
     "name": "stdout",
     "output_type": "stream",
     "text": [
      "{\n",
      "    \"tables\": {\n",
      "        \"table\": {\n",
      "            \"primary_key\": \"Id\",\n",
      "            \"columns\": {\n",
      "                \"Id\": {\n",
      "                    \"sdtype\": \"id\"\n",
      "                },\n",
      "                \"O_score\": {\n",
      "                    \"sdtype\": \"numerical\"\n",
      "                },\n",
      "                \"C_score\": {\n",
      "                    \"sdtype\": \"numerical\"\n",
      "                },\n",
      "                \"E_score\": {\n",
      "                    \"sdtype\": \"numerical\"\n",
      "                },\n",
      "                \"A_score\": {\n",
      "                    \"sdtype\": \"numerical\"\n",
      "                },\n",
      "                \"N_score\": {\n",
      "                    \"sdtype\": \"numerical\"\n",
      "                },\n",
      "                \"Numerical Aptitude\": {\n",
      "                    \"sdtype\": \"numerical\"\n",
      "                },\n",
      "                \"Spatial Aptitude\": {\n",
      "                    \"sdtype\": \"numerical\"\n",
      "                },\n",
      "                \"Perceptual Aptitude\": {\n",
      "                    \"sdtype\": \"numerical\"\n",
      "                },\n",
      "                \"Abstract Reasoning\": {\n",
      "                    \"sdtype\": \"numerical\"\n",
      "                },\n",
      "                \"Verbal Reasoning\": {\n",
      "                    \"sdtype\": \"numerical\"\n",
      "                },\n",
      "                \"Career\": {\n",
      "                    \"sdtype\": \"categorical\"\n",
      "                }\n",
      "            }\n",
      "        }\n",
      "    },\n",
      "    \"relationships\": [],\n",
      "    \"METADATA_SPEC_VERSION\": \"V1\"\n",
      "}\n"
     ]
    }
   ],
   "source": [
    "metadata.update_column(column_name = 'Career',\n",
    "                       sdtype = 'categorical')\n",
    "print(metadata)"
   ]
  },
  {
   "cell_type": "code",
   "execution_count": 6,
   "metadata": {},
   "outputs": [
    {
     "name": "stderr",
     "output_type": "stream",
     "text": [
      "c:\\Users\\user\\anaconda3\\envs\\env1\\Lib\\site-packages\\sdv\\single_table\\base.py:104: UserWarning: We strongly recommend saving the metadata using 'save_to_json' for replicability in future SDV versions.\n",
      "  warnings.warn(\n"
     ]
    }
   ],
   "source": [
    "#Create the synthesizer\n",
    "from sdv.single_table import GaussianCopulaSynthesizer\n",
    "\n",
    "synthesizer = GaussianCopulaSynthesizer(metadata)\n",
    "synthesizer.fit(real_data)"
   ]
  },
  {
   "cell_type": "code",
   "execution_count": 7,
   "metadata": {},
   "outputs": [
    {
     "data": {
      "text/html": [
       "<div>\n",
       "<style scoped>\n",
       "    .dataframe tbody tr th:only-of-type {\n",
       "        vertical-align: middle;\n",
       "    }\n",
       "\n",
       "    .dataframe tbody tr th {\n",
       "        vertical-align: top;\n",
       "    }\n",
       "\n",
       "    .dataframe thead th {\n",
       "        text-align: right;\n",
       "    }\n",
       "</style>\n",
       "<table border=\"1\" class=\"dataframe\">\n",
       "  <thead>\n",
       "    <tr style=\"text-align: right;\">\n",
       "      <th></th>\n",
       "      <th>Id</th>\n",
       "      <th>O_score</th>\n",
       "      <th>C_score</th>\n",
       "      <th>E_score</th>\n",
       "      <th>A_score</th>\n",
       "      <th>N_score</th>\n",
       "      <th>Numerical Aptitude</th>\n",
       "      <th>Spatial Aptitude</th>\n",
       "      <th>Perceptual Aptitude</th>\n",
       "      <th>Abstract Reasoning</th>\n",
       "      <th>Verbal Reasoning</th>\n",
       "      <th>Career</th>\n",
       "    </tr>\n",
       "  </thead>\n",
       "  <tbody>\n",
       "    <tr>\n",
       "      <th>0</th>\n",
       "      <td>5837532</td>\n",
       "      <td>6.94</td>\n",
       "      <td>9.04</td>\n",
       "      <td>3.95</td>\n",
       "      <td>6.08</td>\n",
       "      <td>4.33</td>\n",
       "      <td>8.91</td>\n",
       "      <td>2.98</td>\n",
       "      <td>3.93</td>\n",
       "      <td>5.09</td>\n",
       "      <td>4.93</td>\n",
       "      <td>Forestry Technician</td>\n",
       "    </tr>\n",
       "    <tr>\n",
       "      <th>1</th>\n",
       "      <td>4722751</td>\n",
       "      <td>6.98</td>\n",
       "      <td>5.54</td>\n",
       "      <td>7.79</td>\n",
       "      <td>9.21</td>\n",
       "      <td>7.07</td>\n",
       "      <td>3.23</td>\n",
       "      <td>2.78</td>\n",
       "      <td>5.12</td>\n",
       "      <td>3.03</td>\n",
       "      <td>8.84</td>\n",
       "      <td>Biotechnologist</td>\n",
       "    </tr>\n",
       "    <tr>\n",
       "      <th>2</th>\n",
       "      <td>13034467</td>\n",
       "      <td>4.60</td>\n",
       "      <td>8.64</td>\n",
       "      <td>9.20</td>\n",
       "      <td>9.20</td>\n",
       "      <td>6.15</td>\n",
       "      <td>3.89</td>\n",
       "      <td>2.81</td>\n",
       "      <td>3.56</td>\n",
       "      <td>3.01</td>\n",
       "      <td>6.47</td>\n",
       "      <td>Database Administrator</td>\n",
       "    </tr>\n",
       "    <tr>\n",
       "      <th>3</th>\n",
       "      <td>16057967</td>\n",
       "      <td>8.23</td>\n",
       "      <td>6.17</td>\n",
       "      <td>3.67</td>\n",
       "      <td>4.97</td>\n",
       "      <td>5.15</td>\n",
       "      <td>3.89</td>\n",
       "      <td>2.78</td>\n",
       "      <td>8.88</td>\n",
       "      <td>8.99</td>\n",
       "      <td>7.45</td>\n",
       "      <td>Physician</td>\n",
       "    </tr>\n",
       "    <tr>\n",
       "      <th>4</th>\n",
       "      <td>1749929</td>\n",
       "      <td>6.05</td>\n",
       "      <td>7.57</td>\n",
       "      <td>6.80</td>\n",
       "      <td>7.66</td>\n",
       "      <td>5.51</td>\n",
       "      <td>3.74</td>\n",
       "      <td>3.19</td>\n",
       "      <td>6.00</td>\n",
       "      <td>3.83</td>\n",
       "      <td>6.87</td>\n",
       "      <td>Interior Designer</td>\n",
       "    </tr>\n",
       "  </tbody>\n",
       "</table>\n",
       "</div>"
      ],
      "text/plain": [
       "         Id  O_score  C_score  E_score  A_score  N_score  Numerical Aptitude  \\\n",
       "0   5837532     6.94     9.04     3.95     6.08     4.33                8.91   \n",
       "1   4722751     6.98     5.54     7.79     9.21     7.07                3.23   \n",
       "2  13034467     4.60     8.64     9.20     9.20     6.15                3.89   \n",
       "3  16057967     8.23     6.17     3.67     4.97     5.15                3.89   \n",
       "4   1749929     6.05     7.57     6.80     7.66     5.51                3.74   \n",
       "\n",
       "   Spatial Aptitude  Perceptual Aptitude  Abstract Reasoning  \\\n",
       "0              2.98                 3.93                5.09   \n",
       "1              2.78                 5.12                3.03   \n",
       "2              2.81                 3.56                3.01   \n",
       "3              2.78                 8.88                8.99   \n",
       "4              3.19                 6.00                3.83   \n",
       "\n",
       "   Verbal Reasoning                  Career  \n",
       "0              4.93     Forestry Technician  \n",
       "1              8.84         Biotechnologist  \n",
       "2              6.47  Database Administrator  \n",
       "3              7.45               Physician  \n",
       "4              6.87       Interior Designer  "
      ]
     },
     "execution_count": 7,
     "metadata": {},
     "output_type": "execute_result"
    }
   ],
   "source": [
    "#Generate the synthetic data\n",
    "synthetic_data = synthesizer.sample(num_rows=10000)\n",
    "synthetic_data.head()"
   ]
  },
  {
   "cell_type": "code",
   "execution_count": 8,
   "metadata": {},
   "outputs": [
    {
     "data": {
      "text/plain": [
       "<matplotlib.collections.PathCollection at 0x1186b2710d0>"
      ]
     },
     "execution_count": 8,
     "metadata": {},
     "output_type": "execute_result"
    },
    {
     "data": {
      "image/png": "[encoded data removed]",
      "text/plain": [
       "<Figure size 640x480 with 1 Axes>"
      ]
     },
     "metadata": {},
     "output_type": "display_data"
    }
   ],
   "source": [
    "#Check the distribution of the real vs the synthetic data\n",
    "import matplotlib.pyplot as plt\n",
    "\n",
    "#Real data\n",
    "plt.scatter(real_data['Numerical Aptitude'], real_data['Spatial Aptitude'])"
   ]
  },
  {
   "cell_type": "code",
   "execution_count": 9,
   "metadata": {},
   "outputs": [
    {
     "data": {
      "text/plain": [
       "<matplotlib.collections.PathCollection at 0x1186b3d9c40>"
      ]
     },
     "execution_count": 9,
     "metadata": {},
     "output_type": "execute_result"
    },
    {
     "data": {
      "image/png": "[encoded data removed]",
      "text/plain": [
       "<Figure size 640x480 with 1 Axes>"
      ]
     },
     "metadata": {},
     "output_type": "display_data"
    }
   ],
   "source": [
    "#For the synthetic data\n",
    "plt.scatter(synthetic_data['Numerical Aptitude'], synthetic_data['Spatial Aptitude'])"
   ]
  },
  {
   "cell_type": "code",
   "execution_count": 10,
   "metadata": {},
   "outputs": [
    {
     "name": "stdout",
     "output_type": "stream",
     "text": [
      "104\n"
     ]
    }
   ],
   "source": [
    "#Find distinct values\n",
    "print(real_data['Career'].nunique())"
   ]
  },
  {
   "cell_type": "code",
   "execution_count": 11,
   "metadata": {},
   "outputs": [
    {
     "name": "stdout",
     "output_type": "stream",
     "text": [
      "104\n"
     ]
    }
   ],
   "source": [
    "#Find the distinct values in the synthetic data set\n",
    "print(synthetic_data['Career'].nunique())"
   ]
  },
  {
   "cell_type": "code",
   "execution_count": 12,
   "metadata": {},
   "outputs": [
    {
     "name": "stdout",
     "output_type": "stream",
     "text": [
      "10000\n"
     ]
    }
   ],
   "source": [
    "#Find the number of rows in the synthetic dataset\n",
    "print(len(synthetic_data))"
   ]
  },
  {
   "cell_type": "code",
   "execution_count": 13,
   "metadata": {},
   "outputs": [],
   "source": [
    "#Save the synthetic dataset\n",
    "synthetic_data.to_csv('Career_Prediction.csv', index=False)"
   ]
  },
  {
   "cell_type": "code",
   "execution_count": null,
   "metadata": {},
   "outputs": [],
   "source": []
  },
  {
   "cell_type": "code",
   "execution_count": 14,
   "metadata": {},
   "outputs": [
    {
     "name": "stdout",
     "output_type": "stream",
     "text": [
      "      Id  O_score  C_score  E_score  A_score  N_score  Numerical Aptitude  \\\n",
      "47    48     9.12     7.45     4.01     5.23     4.67                7.01   \n",
      "152  153     9.12     7.45     4.01     5.23     4.67                7.01   \n",
      "\n",
      "     Spatial Aptitude  Perceptual Aptitude  Abstract Reasoning  \\\n",
      "47               6.45                 6.78                8.78   \n",
      "152              6.45                 6.78                8.78   \n",
      "\n",
      "     Verbal Reasoning     Career  \n",
      "47               5.45  Geologist  \n",
      "152              5.45  Geologist  \n"
     ]
    }
   ],
   "source": [
    "#See the careers vs the attributes\n",
    "print(real_data[real_data['Career'] == 'Geologist'])"
   ]
  },
  {
   "cell_type": "code",
   "execution_count": 15,
   "metadata": {},
   "outputs": [
    {
     "name": "stdout",
     "output_type": "stream",
     "text": [
      "            Id  O_score  C_score  E_score  A_score  N_score  \\\n",
      "18     3823888     3.41     4.86     7.34     9.30     6.03   \n",
      "165    7413774     8.16     8.02     3.49     5.67     5.53   \n",
      "296   15263180     6.37     7.31     5.62     7.04     5.43   \n",
      "299    7839339     5.28     9.44     3.47     7.62     3.55   \n",
      "347     965149     7.81     8.75     3.96     7.42     4.13   \n",
      "...        ...      ...      ...      ...      ...      ...   \n",
      "9268  13007535     9.10     8.40     4.57     4.91     4.63   \n",
      "9364  12502329     7.73     6.67     3.51     7.24     7.15   \n",
      "9421   1069499     6.71     3.56     8.72     7.90     5.83   \n",
      "9465  10100214     5.64     8.44     5.61     9.00     5.93   \n",
      "9776   6914291     8.70     6.99     7.16     6.79     5.17   \n",
      "\n",
      "      Numerical Aptitude  Spatial Aptitude  Perceptual Aptitude  \\\n",
      "18                  3.23              2.78                 6.40   \n",
      "165                 3.97              2.78                 7.26   \n",
      "296                 8.44              3.82                 3.57   \n",
      "299                 5.99              4.97                 3.36   \n",
      "347                 8.91              9.12                 3.25   \n",
      "...                  ...               ...                  ...   \n",
      "9268                5.20              2.78                 4.44   \n",
      "9364                3.84              3.00                 4.55   \n",
      "9421                5.13              2.80                 6.02   \n",
      "9465                3.70              3.57                 3.32   \n",
      "9776                8.86              9.21                 3.73   \n",
      "\n",
      "      Abstract Reasoning  Verbal Reasoning     Career  \n",
      "18                  3.01              4.99  Geologist  \n",
      "165                 6.18              7.18  Geologist  \n",
      "296                 5.74              4.98  Geologist  \n",
      "299                 7.87              7.79  Geologist  \n",
      "347                 3.05              7.28  Geologist  \n",
      "...                  ...               ...        ...  \n",
      "9268                9.18              3.80  Geologist  \n",
      "9364                5.88              8.94  Geologist  \n",
      "9421                3.36              4.20  Geologist  \n",
      "9465                3.01              8.42  Geologist  \n",
      "9776                9.26              6.01  Geologist  \n",
      "\n",
      "[108 rows x 12 columns]\n"
     ]
    }
   ],
   "source": [
    "#Print the values for Geologist in the synthetic dataset\n",
    "print(synthetic_data[synthetic_data['Career'] == 'Geologist'])"
   ]
  },
  {
   "cell_type": "code",
   "execution_count": 16,
   "metadata": {},
   "outputs": [
    {
     "name": "stdout",
     "output_type": "stream",
     "text": [
      "Id                     8.424027e+06\n",
      "O_score                7.096759e+00\n",
      "C_score                7.523148e+00\n",
      "E_score                5.572500e+00\n",
      "A_score                7.068241e+00\n",
      "N_score                5.387778e+00\n",
      "Numerical Aptitude     5.818889e+00\n",
      "Spatial Aptitude       4.258981e+00\n",
      "Perceptual Aptitude    5.381019e+00\n",
      "Abstract Reasoning     5.720741e+00\n",
      "Verbal Reasoning       6.774352e+00\n",
      "dtype: float64\n"
     ]
    }
   ],
   "source": [
    "#Plot the values for the geologist\n",
    "x = synthetic_data[synthetic_data['Career'] == 'Geologist']\n",
    "#print(x.head())\n",
    "x = x.drop('Career', axis=1)\n",
    "#print(x)\n",
    "averages = x.mean()\n",
    "print(averages)\n",
    "#plt.bar(x)"
   ]
  },
  {
   "cell_type": "code",
   "execution_count": 17,
   "metadata": {},
   "outputs": [
    {
     "name": "stdout",
     "output_type": "stream",
     "text": [
      "Generating report ...\n",
      "\n",
      "(1/2) Evaluating Data Validity: |██████████| 12/12 [00:00<00:00, 1021.73it/s]|\n",
      "Data Validity Score: 100.0%\n",
      "\n",
      "(2/2) Evaluating Data Structure: |██████████| 1/1 [00:00<00:00, 150.38it/s]|\n",
      "Data Structure Score: 100.0%\n",
      "\n",
      "Overall Score (Average): 100.0%\n",
      "\n"
     ]
    }
   ],
   "source": [
    "import sdmetrics\n",
    "from sdv.evaluation.single_table import run_diagnostic\n",
    "\n",
    "diagnostic = run_diagnostic(\n",
    "    real_data = real_data,\n",
    "    synthetic_data=synthetic_data,\n",
    "    metadata=metadata\n",
    ")"
   ]
  },
  {
   "cell_type": "code",
   "execution_count": 18,
   "metadata": {},
   "outputs": [
    {
     "name": "stdout",
     "output_type": "stream",
     "text": [
      "Generating report ...\n",
      "\n",
      "(1/2) Evaluating Column Shapes: |██████████| 12/12 [00:00<00:00, 97.58it/s]|\n",
      "Column Shapes Score: 79.64%\n",
      "\n",
      "(2/2) Evaluating Column Pair Trends: |██████████| 66/66 [00:00<00:00, 121.70it/s]|\n",
      "Column Pair Trends Score: 77.18%\n",
      "\n",
      "Overall Score (Average): 78.41%\n",
      "\n"
     ]
    }
   ],
   "source": [
    "from sdv.evaluation.single_table import evaluate_quality\n",
    "\n",
    "quality_report = evaluate_quality(\n",
    "    real_data,\n",
    "    synthetic_data,\n",
    "    metadata\n",
    ")"
   ]
  },
  {
   "cell_type": "code",
   "execution_count": 19,
   "metadata": {},
   "outputs": [
    {
     "data": {
      "text/html": [
       "<div>\n",
       "<style scoped>\n",
       "    .dataframe tbody tr th:only-of-type {\n",
       "        vertical-align: middle;\n",
       "    }\n",
       "\n",
       "    .dataframe tbody tr th {\n",
       "        vertical-align: top;\n",
       "    }\n",
       "\n",
       "    .dataframe thead th {\n",
       "        text-align: right;\n",
       "    }\n",
       "</style>\n",
       "<table border=\"1\" class=\"dataframe\">\n",
       "  <thead>\n",
       "    <tr style=\"text-align: right;\">\n",
       "      <th></th>\n",
       "      <th>Column</th>\n",
       "      <th>Metric</th>\n",
       "      <th>Score</th>\n",
       "    </tr>\n",
       "  </thead>\n",
       "  <tbody>\n",
       "    <tr>\n",
       "      <th>0</th>\n",
       "      <td>O_score</td>\n",
       "      <td>KSComplement</td>\n",
       "      <td>0.887805</td>\n",
       "    </tr>\n",
       "    <tr>\n",
       "      <th>1</th>\n",
       "      <td>C_score</td>\n",
       "      <td>KSComplement</td>\n",
       "      <td>0.737419</td>\n",
       "    </tr>\n",
       "    <tr>\n",
       "      <th>2</th>\n",
       "      <td>E_score</td>\n",
       "      <td>KSComplement</td>\n",
       "      <td>0.865010</td>\n",
       "    </tr>\n",
       "    <tr>\n",
       "      <th>3</th>\n",
       "      <td>A_score</td>\n",
       "      <td>KSComplement</td>\n",
       "      <td>0.792838</td>\n",
       "    </tr>\n",
       "    <tr>\n",
       "      <th>4</th>\n",
       "      <td>N_score</td>\n",
       "      <td>KSComplement</td>\n",
       "      <td>0.847729</td>\n",
       "    </tr>\n",
       "    <tr>\n",
       "      <th>5</th>\n",
       "      <td>Numerical Aptitude</td>\n",
       "      <td>KSComplement</td>\n",
       "      <td>0.795290</td>\n",
       "    </tr>\n",
       "    <tr>\n",
       "      <th>6</th>\n",
       "      <td>Spatial Aptitude</td>\n",
       "      <td>KSComplement</td>\n",
       "      <td>0.515848</td>\n",
       "    </tr>\n",
       "    <tr>\n",
       "      <th>7</th>\n",
       "      <td>Perceptual Aptitude</td>\n",
       "      <td>KSComplement</td>\n",
       "      <td>0.861862</td>\n",
       "    </tr>\n",
       "    <tr>\n",
       "      <th>8</th>\n",
       "      <td>Abstract Reasoning</td>\n",
       "      <td>KSComplement</td>\n",
       "      <td>0.720157</td>\n",
       "    </tr>\n",
       "    <tr>\n",
       "      <th>9</th>\n",
       "      <td>Verbal Reasoning</td>\n",
       "      <td>KSComplement</td>\n",
       "      <td>0.777419</td>\n",
       "    </tr>\n",
       "    <tr>\n",
       "      <th>10</th>\n",
       "      <td>Career</td>\n",
       "      <td>TVComplement</td>\n",
       "      <td>0.959438</td>\n",
       "    </tr>\n",
       "  </tbody>\n",
       "</table>\n",
       "</div>"
      ],
      "text/plain": [
       "                 Column        Metric     Score\n",
       "0               O_score  KSComplement  0.887805\n",
       "1               C_score  KSComplement  0.737419\n",
       "2               E_score  KSComplement  0.865010\n",
       "3               A_score  KSComplement  0.792838\n",
       "4               N_score  KSComplement  0.847729\n",
       "5    Numerical Aptitude  KSComplement  0.795290\n",
       "6      Spatial Aptitude  KSComplement  0.515848\n",
       "7   Perceptual Aptitude  KSComplement  0.861862\n",
       "8    Abstract Reasoning  KSComplement  0.720157\n",
       "9      Verbal Reasoning  KSComplement  0.777419\n",
       "10               Career  TVComplement  0.959438"
      ]
     },
     "execution_count": 19,
     "metadata": {},
     "output_type": "execute_result"
    }
   ],
   "source": [
    "quality_report.get_details('Column Shapes')"
   ]
  },
  {
   "cell_type": "code",
   "execution_count": null,
   "metadata": {},
   "outputs": [],
   "source": [
    "#---------------------------------------------------------"
   ]
  },
  {
   "cell_type": "markdown",
   "metadata": {},
   "source": [
    "Try the CTGANSynthesizer to generate more accurate data."
   ]
  },
  {
   "cell_type": "code",
   "execution_count": 36,
   "metadata": {},
   "outputs": [],
   "source": [
    "#Create a GAN synthesizer\n",
    "from sdv.single_table import CTGANSynthesizer\n",
    "\n",
    "ganSynthesizer = CTGANSynthesizer(metadata, epochs=455)\n",
    "ganSynthesizer.fit(real_data)\n",
    "\n",
    "gan_synthetic_data = ganSynthesizer.sample(num_rows=1000)\n"
   ]
  },
  {
   "cell_type": "code",
   "execution_count": 37,
   "metadata": {},
   "outputs": [
    {
     "data": {
      "text/plain": [
       "{'enforce_min_max_values': True,\n",
       " 'enforce_rounding': True,\n",
       " 'locales': ['en_US'],\n",
       " 'embedding_dim': 128,\n",
       " 'generator_dim': (256, 256),\n",
       " 'discriminator_dim': (256, 256),\n",
       " 'generator_lr': 0.0002,\n",
       " 'generator_decay': 1e-06,\n",
       " 'discriminator_lr': 0.0002,\n",
       " 'discriminator_decay': 1e-06,\n",
       " 'batch_size': 500,\n",
       " 'discriminator_steps': 1,\n",
       " 'log_frequency': True,\n",
       " 'verbose': False,\n",
       " 'epochs': 455,\n",
       " 'pac': 10,\n",
       " 'cuda': True}"
      ]
     },
     "execution_count": 37,
     "metadata": {},
     "output_type": "execute_result"
    }
   ],
   "source": [
    "#Get the parameters\n",
    "ganSynthesizer.get_parameters()"
   ]
  },
  {
   "cell_type": "code",
   "execution_count": 38,
   "metadata": {},
   "outputs": [
    {
     "data": {
      "text/html": [
       "<div>\n",
       "<style scoped>\n",
       "    .dataframe tbody tr th:only-of-type {\n",
       "        vertical-align: middle;\n",
       "    }\n",
       "\n",
       "    .dataframe tbody tr th {\n",
       "        vertical-align: top;\n",
       "    }\n",
       "\n",
       "    .dataframe thead th {\n",
       "        text-align: right;\n",
       "    }\n",
       "</style>\n",
       "<table border=\"1\" class=\"dataframe\">\n",
       "  <thead>\n",
       "    <tr style=\"text-align: right;\">\n",
       "      <th></th>\n",
       "      <th>Epoch</th>\n",
       "      <th>Generator Loss</th>\n",
       "      <th>Discriminator Loss</th>\n",
       "    </tr>\n",
       "  </thead>\n",
       "  <tbody>\n",
       "    <tr>\n",
       "      <th>0</th>\n",
       "      <td>0</td>\n",
       "      <td>4.706402</td>\n",
       "      <td>-0.002470</td>\n",
       "    </tr>\n",
       "    <tr>\n",
       "      <th>1</th>\n",
       "      <td>1</td>\n",
       "      <td>4.748739</td>\n",
       "      <td>-0.025333</td>\n",
       "    </tr>\n",
       "    <tr>\n",
       "      <th>2</th>\n",
       "      <td>2</td>\n",
       "      <td>4.728577</td>\n",
       "      <td>-0.024666</td>\n",
       "    </tr>\n",
       "    <tr>\n",
       "      <th>3</th>\n",
       "      <td>3</td>\n",
       "      <td>4.719938</td>\n",
       "      <td>-0.059525</td>\n",
       "    </tr>\n",
       "    <tr>\n",
       "      <th>4</th>\n",
       "      <td>4</td>\n",
       "      <td>4.685781</td>\n",
       "      <td>-0.065766</td>\n",
       "    </tr>\n",
       "    <tr>\n",
       "      <th>...</th>\n",
       "      <td>...</td>\n",
       "      <td>...</td>\n",
       "      <td>...</td>\n",
       "    </tr>\n",
       "    <tr>\n",
       "      <th>450</th>\n",
       "      <td>450</td>\n",
       "      <td>0.115480</td>\n",
       "      <td>-0.353703</td>\n",
       "    </tr>\n",
       "    <tr>\n",
       "      <th>451</th>\n",
       "      <td>451</td>\n",
       "      <td>0.125122</td>\n",
       "      <td>-0.224096</td>\n",
       "    </tr>\n",
       "    <tr>\n",
       "      <th>452</th>\n",
       "      <td>452</td>\n",
       "      <td>-0.001705</td>\n",
       "      <td>-0.235603</td>\n",
       "    </tr>\n",
       "    <tr>\n",
       "      <th>453</th>\n",
       "      <td>453</td>\n",
       "      <td>0.005579</td>\n",
       "      <td>-0.133926</td>\n",
       "    </tr>\n",
       "    <tr>\n",
       "      <th>454</th>\n",
       "      <td>454</td>\n",
       "      <td>0.031814</td>\n",
       "      <td>-0.125841</td>\n",
       "    </tr>\n",
       "  </tbody>\n",
       "</table>\n",
       "<p>455 rows × 3 columns</p>\n",
       "</div>"
      ],
      "text/plain": [
       "     Epoch  Generator Loss  Discriminator Loss\n",
       "0        0        4.706402           -0.002470\n",
       "1        1        4.748739           -0.025333\n",
       "2        2        4.728577           -0.024666\n",
       "3        3        4.719938           -0.059525\n",
       "4        4        4.685781           -0.065766\n",
       "..     ...             ...                 ...\n",
       "450    450        0.115480           -0.353703\n",
       "451    451        0.125122           -0.224096\n",
       "452    452       -0.001705           -0.235603\n",
       "453    453        0.005579           -0.133926\n",
       "454    454        0.031814           -0.125841\n",
       "\n",
       "[455 rows x 3 columns]"
      ]
     },
     "execution_count": 38,
     "metadata": {},
     "output_type": "execute_result"
    }
   ],
   "source": [
    "#Find the loss and accuracy\n",
    "ganSynthesizer.get_loss_values()"
   ]
  },
  {
   "cell_type": "code",
   "execution_count": 39,
   "metadata": {},
   "outputs": [
    {
     "data": {
      "application/vnd.plotly.v1+json": {
       "config": {
        "plotlyServerURL": "https://plot.ly"
       },
       "data": [
        {
         "hovertemplate": "variable=Generator Loss<br>Epoch=%{x}<br>value=%{y}<extra></extra>",
         "legendgroup": "Generator Loss",
         "line": {
          "color": "#000036",
          "dash": "solid"
         },
         "marker": {
          "symbol": "circle"
         },
         "mode": "lines",
         "name": "Generator Loss",
         "orientation": "v",
         "showlegend": true,
         "type": "scatter",
         "x": [
          0,
          1,
          2,
          3,
          4,
          5,
          6,
          7,
          8,
          9,
          10,
          11,
          12,
          13,
          14,
          15,
          16,
          17,
          18,
          19,
          20,
          21,
          22,
          23,
          24,
          25,
          26,
          27,
          28,
          29,
          30,
          31,
          32,
          33,
          34,
          35,
          36,
          37,
          38,
          39,
          40,
          41,
          42,
          43,
          44,
          45,
          46,
          47,
          48,
          49,
          50,
          51,
          52,
          53,
          54,
          55,
          56,
          57,
          58,
          59,
          60,
          61,
          62,
          63,
          64,
          65,
          66,
          67,
          68,
          69,
          70,
          71,
          72,
          73,
          74,
          75,
          76,
          77,
          78,
          79,
          80,
          81,
          82,
          83,
          84,
          85,
          86,
          87,
          88,
          89,
          90,
          91,
          92,
          93,
          94,
          95,
          96,
          97,
          98,
          99,
          100,
          101,
          102,
          103,
          104,
          105,
          106,
          107,
          108,
          109,
          110,
          111,
          112,
          113,
          114,
          115,
          116,
          117,
          118,
          119,
          120,
          121,
          122,
          123,
          124,
          125,
          126,
          127,
          128,
          129,
          130,
          131,
          132,
          133,
          134,
          135,
          136,
          137,
          138,
          139,
          140,
          141,
          142,
          143,
          144,
          145,
          146,
          147,
          148,
          149,
          150,
          151,
          152,
          153,
          154,
          155,
          156,
          157,
          158,
          159,
          160,
          161,
          162,
          163,
          164,
          165,
          166,
          167,
          168,
          169,
          170,
          171,
          172,
          173,
          174,
          175,
          176,
          177,
          178,
          179,
          180,
          181,
          182,
          183,
          184,
          185,
          186,
          187,
          188,
          189,
          190,
          191,
          192,
          193,
          194,
          195,
          196,
          197,
          198,
          199,
          200,
          201,
          202,
          203,
          204,
          205,
          206,
          207,
          208,
          209,
          210,
          211,
          212,
          213,
          214,
          215,
          216,
          217,
          218,
          219,
          220,
          221,
          222,
          223,
          224,
          225,
          226,
          227,
          228,
          229,
          230,
          231,
          232,
          233,
          234,
          235,
          236,
          237,
          238,
          239,
          240,
          241,
          242,
          243,
          244,
          245,
          246,
          247,
          248,
          249,
          250,
          251,
          252,
          253,
          254,
          255,
          256,
          257,
          258,
          259,
          260,
          261,
          262,
          263,
          264,
          265,
          266,
          267,
          268,
          269,
          270,
          271,
          272,
          273,
          274,
          275,
          276,
          277,
          278,
          279,
          280,
          281,
          282,
          283,
          284,
          285,
          286,
          287,
          288,
          289,
          290,
          291,
          292,
          293,
          294,
          295,
          296,
          297,
          298,
          299,
          300,
          301,
          302,
          303,
          304,
          305,
          306,
          307,
          308,
          309,
          310,
          311,
          312,
          313,
          314,
          315,
          316,
          317,
          318,
          319,
          320,
          321,
          322,
          323,
          324,
          325,
          326,
          327,
          328,
          329,
          330,
          331,
          332,
          333,
          334,
          335,
          336,
          337,
          338,
          339,
          340,
          341,
          342,
          343,
          344,
          345,
          346,
          347,
          348,
          349,
          350,
          351,
          352,
          353,
          354,
          355,
          356,
          357,
          358,
          359,
          360,
          361,
          362,
          363,
          364,
          365,
          366,
          367,
          368,
          369,
          370,
          371,
          372,
          373,
          374,
          375,
          376,
          377,
          378,
          379,
          380,
          381,
          382,
          383,
          384,
          385,
          386,
          387,
          388,
          389,
          390,
          391,
          392,
          393,
          394,
          395,
          396,
          397,
          398,
          399,
          400,
          401,
          402,
          403,
          404,
          405,
          406,
          407,
          408,
          409,
          410,
          411,
          412,
          413,
          414,
          415,
          416,
          417,
          418,
          419,
          420,
          421,
          422,
          423,
          424,
          425,
          426,
          427,
          428,
          429,
          430,
          431,
          432,
          433,
          434,
          435,
          436,
          437,
          438,
          439,
          440,
          441,
          442,
          443,
          444,
          445,
          446,
          447,
          448,
          449,
          450,
          451,
          452,
          453,
          454
         ],
         "xaxis": "x",
         "y": [
          4.706401824951172,
          4.748739242553711,
          4.72857666015625,
          4.719938278198242,
          4.685781002044678,
          4.716567039489746,
          4.6859307289123535,
          4.686471462249756,
          4.671846866607666,
          4.630454063415527,
          4.606976509094238,
          4.588059425354004,
          4.6105804443359375,
          4.529652118682861,
          4.511134147644043,
          4.51825475692749,
          4.485105037689209,
          4.4662981033325195,
          4.44182014465332,
          4.417681694030762,
          4.378419399261475,
          4.377572536468506,
          4.3260908126831055,
          4.295454502105713,
          4.284908771514893,
          4.258629322052002,
          4.261919975280762,
          4.223422527313232,
          4.219592094421387,
          4.1986470222473145,
          4.218191146850586,
          4.23969841003418,
          4.209521770477295,
          4.24256706237793,
          4.2488203048706055,
          4.2756829261779785,
          4.214526176452637,
          4.284329891204834,
          4.212058067321777,
          4.266589641571045,
          4.260617256164551,
          4.243682384490967,
          4.287594318389893,
          4.213718414306641,
          4.222570419311523,
          4.093104362487793,
          4.213465213775635,
          4.116652011871338,
          4.104328155517578,
          4.100852966308594,
          4.1090545654296875,
          4.067861080169678,
          4.015502452850342,
          3.965491771697998,
          3.9360179901123047,
          3.986801862716675,
          4.006331443786621,
          4.024781227111816,
          4.06511926651001,
          4.037957668304443,
          4.088951110839844,
          4.057575702667236,
          4.04368257522583,
          4.080397605895996,
          4.134801864624023,
          4.122457027435303,
          4.1247239112854,
          4.130568504333496,
          4.13224983215332,
          4.153556823730469,
          4.130310535430908,
          4.082067012786865,
          4.070096969604492,
          4.060003280639648,
          4.000622749328613,
          3.979231595993042,
          4.0085272789001465,
          3.881361484527588,
          3.9282360076904297,
          3.8605241775512695,
          3.828749179840088,
          3.8682215213775635,
          3.8374016284942627,
          3.8574740886688232,
          3.8148632049560547,
          3.7346324920654297,
          3.758530378341675,
          3.835653781890869,
          3.821739435195923,
          3.9101953506469727,
          3.846203565597534,
          3.8892509937286377,
          3.8575711250305176,
          3.8623995780944824,
          3.889808416366577,
          3.883065938949585,
          3.9733870029449463,
          3.9490723609924316,
          3.892918109893799,
          3.9405055046081543,
          3.925321578979492,
          3.8410260677337646,
          3.831505298614502,
          3.829695463180542,
          3.8211350440979004,
          3.7949275970458984,
          3.802995204925537,
          3.7167694568634033,
          3.7012343406677246,
          3.676384687423706,
          3.64998197555542,
          3.6159605979919434,
          3.5521621704101562,
          3.4760453701019287,
          3.539661169052124,
          3.585866928100586,
          3.536262035369873,
          3.477327823638916,
          3.495863676071167,
          3.4536027908325195,
          3.4370479583740234,
          3.3767597675323486,
          3.356888771057129,
          3.4393625259399414,
          3.334444999694824,
          3.3549532890319824,
          3.317495584487915,
          3.3791451454162598,
          3.3168704509735107,
          3.240917682647705,
          3.285291910171509,
          3.132960796356201,
          3.2349300384521484,
          3.2477824687957764,
          3.2600865364074707,
          3.220186710357666,
          3.2723307609558105,
          3.2811439037323,
          3.390961170196533,
          3.3627660274505615,
          3.4629170894622803,
          3.3983442783355713,
          3.5129690170288086,
          3.545623302459717,
          3.586473226547241,
          3.631714344024658,
          3.623668670654297,
          3.5879642963409424,
          3.573328971862793,
          3.6012768745422363,
          3.5358500480651855,
          3.4304230213165283,
          3.5113492012023926,
          3.441915512084961,
          3.417642593383789,
          3.3407421112060547,
          3.37191104888916,
          3.388605833053589,
          3.3711812496185303,
          3.431483268737793,
          3.413027763366699,
          3.4593136310577393,
          3.5535030364990234,
          3.557802438735962,
          3.532468318939209,
          3.6237857341766357,
          3.5900516510009766,
          3.583268642425537,
          3.6063573360443115,
          3.6396548748016357,
          3.51593279838562,
          3.4689860343933105,
          3.4624314308166504,
          3.341409683227539,
          3.249173164367676,
          3.2653634548187256,
          3.2133495807647705,
          3.167736768722534,
          3.191023349761963,
          3.1653575897216797,
          3.2058048248291016,
          3.2388391494750977,
          3.299572467803955,
          3.2947583198547363,
          3.3843436241149902,
          3.353806972503662,
          3.4112586975097656,
          3.384054660797119,
          3.3220324516296387,
          3.347358465194702,
          3.293205976486206,
          3.277296304702759,
          3.1236491203308105,
          3.0787405967712402,
          3.0260417461395264,
          3.0595242977142334,
          3.0210158824920654,
          3.0586864948272705,
          3.017937183380127,
          3.088088274002075,
          3.120633840560913,
          3.099536180496216,
          3.090662717819214,
          3.096010684967041,
          3.0448384284973145,
          3.035764455795288,
          2.989482879638672,
          3.050766944885254,
          3.0571541786193848,
          3.0790655612945557,
          3.148690700531006,
          3.148362159729004,
          3.1658458709716797,
          3.239206314086914,
          3.154038190841675,
          3.100325107574463,
          3.0956969261169434,
          3.069305419921875,
          3.1008148193359375,
          3.1123600006103516,
          3.0704824924468994,
          3.0729990005493164,
          3.091952323913574,
          3.0685317516326904,
          3.0637950897216797,
          3.0207040309906006,
          3.008610725402832,
          3.0330677032470703,
          3.049663543701172,
          3.0593395233154297,
          3.0174601078033447,
          2.969745635986328,
          2.9307615756988525,
          2.960906505584717,
          2.9580419063568115,
          2.9032487869262695,
          2.988868236541748,
          2.8953945636749268,
          2.915639638900757,
          2.894127607345581,
          2.7637953758239746,
          2.7645349502563477,
          2.7425477504730225,
          2.7410857677459717,
          2.7270097732543945,
          2.7139949798583984,
          2.810802936553955,
          2.7833075523376465,
          2.8221302032470703,
          2.801116943359375,
          2.8082571029663086,
          2.872509002685547,
          2.8193399906158447,
          2.8355202674865723,
          2.916349172592163,
          2.805699348449707,
          2.7489073276519775,
          2.76540207862854,
          2.6641314029693604,
          2.722963571548462,
          2.6366093158721924,
          2.5974645614624023,
          2.6460328102111816,
          2.5287694931030273,
          2.5753414630889893,
          2.629206418991089,
          2.588346004486084,
          2.550035238265991,
          2.6536026000976562,
          2.643972635269165,
          2.6569316387176514,
          2.636671781539917,
          2.636129379272461,
          2.650918960571289,
          2.5530784130096436,
          2.619621753692627,
          2.5638058185577393,
          2.4957385063171387,
          2.54967999458313,
          2.498307228088379,
          2.514165163040161,
          2.501168727874756,
          2.522869110107422,
          2.556767225265503,
          2.5303807258605957,
          2.545694351196289,
          2.4355220794677734,
          2.4621810913085938,
          2.392974853515625,
          2.4033751487731934,
          2.3741257190704346,
          2.357309579849243,
          2.3003926277160645,
          2.2276463508605957,
          2.246094226837158,
          2.2296130657196045,
          2.129815101623535,
          2.2327628135681152,
          2.1889705657958984,
          2.1762237548828125,
          2.167670249938965,
          2.228254795074463,
          2.1837069988250732,
          2.1583027839660645,
          2.216216802597046,
          2.2075436115264893,
          2.168936252593994,
          2.1900410652160645,
          2.091585636138916,
          1.9927504062652588,
          2.0310850143432617,
          2.061033248901367,
          2.0243496894836426,
          2.105699300765991,
          2.0061709880828857,
          1.9642577171325684,
          1.997795820236206,
          2.0972061157226562,
          2.0475003719329834,
          2.1199042797088623,
          2.1193277835845947,
          2.0469131469726562,
          2.116504430770874,
          2.0648350715637207,
          2.0608839988708496,
          2.066002130508423,
          2.041990280151367,
          1.977806806564331,
          1.9844939708709717,
          1.9516429901123047,
          1.777716875076294,
          1.8515042066574097,
          1.797135591506958,
          1.686410903930664,
          1.705464243888855,
          1.6975271701812744,
          1.6132935285568237,
          1.6799523830413818,
          1.5639915466308594,
          1.5939371585845947,
          1.6038439273834229,
          1.6579785346984863,
          1.6601331233978271,
          1.777467966079712,
          1.72769033908844,
          1.7568597793579102,
          1.7944387197494507,
          1.682983160018921,
          1.667281150817871,
          1.5608158111572266,
          1.566526174545288,
          1.5825998783111572,
          1.5041728019714355,
          1.365636944770813,
          1.2897818088531494,
          1.2519158124923706,
          1.2633233070373535,
          1.2081413269042969,
          1.1958892345428467,
          1.2169897556304932,
          1.2014539241790771,
          1.0999879837036133,
          1.1693217754364014,
          1.1727046966552734,
          1.1501500606536865,
          1.2313154935836792,
          1.197303295135498,
          1.1548455953598022,
          1.1256892681121826,
          1.0823109149932861,
          1.1707708835601807,
          1.0422818660736084,
          1.0943734645843506,
          1.0610198974609375,
          0.9592102766036987,
          1.0110336542129517,
          1.0094166994094849,
          0.9398068189620972,
          0.9096660614013672,
          0.9674711227416992,
          1.0641545057296753,
          1.0213567018508911,
          1.0832113027572632,
          1.0626733303070068,
          1.014965534210205,
          0.9329144358634949,
          0.8588600158691406,
          0.8245382905006409,
          0.7344263792037964,
          0.7249043583869934,
          0.5903819799423218,
          0.5584040284156799,
          0.4587622880935669,
          0.5088912844657898,
          0.43189841508865356,
          0.5014631748199463,
          0.391292929649353,
          0.4617076516151428,
          0.5245895385742188,
          0.4412616491317749,
          0.4895128011703491,
          0.537487268447876,
          0.5606204867362976,
          0.5100164413452148,
          0.4907877445220947,
          0.6230431795120239,
          0.5858200788497925,
          0.49682319164276123,
          0.6037601232528687,
          0.4937262535095215,
          0.5149109363555908,
          0.4777003526687622,
          0.5148496627807617,
          0.4266309142112732,
          0.37351876497268677,
          0.3489764332771301,
          0.3178534507751465,
          0.29747265577316284,
          0.33611005544662476,
          0.3531826138496399,
          0.2160423994064331,
          0.28475940227508545,
          0.22453683614730835,
          0.2403051257133484,
          0.2459009289741516,
          0.24154812097549438,
          0.2734946012496948,
          0.21546900272369385,
          0.16655009984970093,
          0.0984346866607666,
          0.17047959566116333,
          0.1411992907524109,
          0.07135778665542603,
          -0.027177393436431885,
          0.05966144800186157,
          0.017599046230316162,
          -0.0023444294929504395,
          0.01561504602432251,
          0.029004156589508057,
          -0.015100300312042236,
          0.008398234844207764,
          0.031482040882110596,
          0.005468547344207764,
          0.07084447145462036,
          0.15526697039604187,
          0.19232016801834106,
          0.10698580741882324,
          0.08161041140556335,
          0.16668659448623657,
          0.10869637131690979,
          0.1154797375202179,
          0.12512192130088806,
          -0.001704871654510498,
          0.005579113960266113,
          0.03181442618370056
         ],
         "yaxis": "y"
        },
        {
         "hovertemplate": "variable=Discriminator Loss<br>Epoch=%{x}<br>value=%{y}<extra></extra>",
         "legendgroup": "Discriminator Loss",
         "line": {
          "color": "#01E0C9",
          "dash": "solid"
         },
         "marker": {
          "symbol": "circle"
         },
         "mode": "lines",
         "name": "Discriminator Loss",
         "orientation": "v",
         "showlegend": true,
         "type": "scatter",
         "x": [
          0,
          1,
          2,
          3,
          4,
          5,
          6,
          7,
          8,
          9,
          10,
          11,
          12,
          13,
          14,
          15,
          16,
          17,
          18,
          19,
          20,
          21,
          22,
          23,
          24,
          25,
          26,
          27,
          28,
          29,
          30,
          31,
          32,
          33,
          34,
          35,
          36,
          37,
          38,
          39,
          40,
          41,
          42,
          43,
          44,
          45,
          46,
          47,
          48,
          49,
          50,
          51,
          52,
          53,
          54,
          55,
          56,
          57,
          58,
          59,
          60,
          61,
          62,
          63,
          64,
          65,
          66,
          67,
          68,
          69,
          70,
          71,
          72,
          73,
          74,
          75,
          76,
          77,
          78,
          79,
          80,
          81,
          82,
          83,
          84,
          85,
          86,
          87,
          88,
          89,
          90,
          91,
          92,
          93,
          94,
          95,
          96,
          97,
          98,
          99,
          100,
          101,
          102,
          103,
          104,
          105,
          106,
          107,
          108,
          109,
          110,
          111,
          112,
          113,
          114,
          115,
          116,
          117,
          118,
          119,
          120,
          121,
          122,
          123,
          124,
          125,
          126,
          127,
          128,
          129,
          130,
          131,
          132,
          133,
          134,
          135,
          136,
          137,
          138,
          139,
          140,
          141,
          142,
          143,
          144,
          145,
          146,
          147,
          148,
          149,
          150,
          151,
          152,
          153,
          154,
          155,
          156,
          157,
          158,
          159,
          160,
          161,
          162,
          163,
          164,
          165,
          166,
          167,
          168,
          169,
          170,
          171,
          172,
          173,
          174,
          175,
          176,
          177,
          178,
          179,
          180,
          181,
          182,
          183,
          184,
          185,
          186,
          187,
          188,
          189,
          190,
          191,
          192,
          193,
          194,
          195,
          196,
          197,
          198,
          199,
          200,
          201,
          202,
          203,
          204,
          205,
          206,
          207,
          208,
          209,
          210,
          211,
          212,
          213,
          214,
          215,
          216,
          217,
          218,
          219,
          220,
          221,
          222,
          223,
          224,
          225,
          226,
          227,
          228,
          229,
          230,
          231,
          232,
          233,
          234,
          235,
          236,
          237,
          238,
          239,
          240,
          241,
          242,
          243,
          244,
          245,
          246,
          247,
          248,
          249,
          250,
          251,
          252,
          253,
          254,
          255,
          256,
          257,
          258,
          259,
          260,
          261,
          262,
          263,
          264,
          265,
          266,
          267,
          268,
          269,
          270,
          271,
          272,
          273,
          274,
          275,
          276,
          277,
          278,
          279,
          280,
          281,
          282,
          283,
          284,
          285,
          286,
          287,
          288,
          289,
          290,
          291,
          292,
          293,
          294,
          295,
          296,
          297,
          298,
          299,
          300,
          301,
          302,
          303,
          304,
          305,
          306,
          307,
          308,
          309,
          310,
          311,
          312,
          313,
          314,
          315,
          316,
          317,
          318,
          319,
          320,
          321,
          322,
          323,
          324,
          325,
          326,
          327,
          328,
          329,
          330,
          331,
          332,
          333,
          334,
          335,
          336,
          337,
          338,
          339,
          340,
          341,
          342,
          343,
          344,
          345,
          346,
          347,
          348,
          349,
          350,
          351,
          352,
          353,
          354,
          355,
          356,
          357,
          358,
          359,
          360,
          361,
          362,
          363,
          364,
          365,
          366,
          367,
          368,
          369,
          370,
          371,
          372,
          373,
          374,
          375,
          376,
          377,
          378,
          379,
          380,
          381,
          382,
          383,
          384,
          385,
          386,
          387,
          388,
          389,
          390,
          391,
          392,
          393,
          394,
          395,
          396,
          397,
          398,
          399,
          400,
          401,
          402,
          403,
          404,
          405,
          406,
          407,
          408,
          409,
          410,
          411,
          412,
          413,
          414,
          415,
          416,
          417,
          418,
          419,
          420,
          421,
          422,
          423,
          424,
          425,
          426,
          427,
          428,
          429,
          430,
          431,
          432,
          433,
          434,
          435,
          436,
          437,
          438,
          439,
          440,
          441,
          442,
          443,
          444,
          445,
          446,
          447,
          448,
          449,
          450,
          451,
          452,
          453,
          454
         ],
         "xaxis": "x",
         "y": [
          -0.002469504252076149,
          -0.02533349022269249,
          -0.024666476994752884,
          -0.05952510982751846,
          -0.06576595455408096,
          -0.09047453105449677,
          -0.09584301710128784,
          -0.1133732721209526,
          -0.12444896996021271,
          -0.10729116946458817,
          -0.14372065663337708,
          -0.20195843279361725,
          -0.16966308653354645,
          -0.17456375062465668,
          -0.21363131701946259,
          -0.18889746069908142,
          -0.24564392864704132,
          -0.279604971408844,
          -0.31114399433135986,
          -0.26450446248054504,
          -0.28606030344963074,
          -0.18750593066215515,
          -0.18045282363891602,
          -0.11806380748748779,
          -0.1169460117816925,
          -0.08359912037849426,
          -0.07278770208358765,
          -0.11157113313674927,
          -0.05550912022590637,
          -0.04718181490898132,
          -0.14057326316833496,
          -0.033061206340789795,
          -0.11040481925010681,
          -0.11291730403900146,
          -0.14151975512504578,
          -0.05396723747253418,
          -0.0333857536315918,
          -0.10736683011054993,
          -0.05865725874900818,
          -0.16065961122512817,
          -0.1008550226688385,
          -0.08319845795631409,
          -0.03930950164794922,
          -0.042273253202438354,
          -0.12837883830070496,
          -0.009593695402145386,
          0.027773529291152954,
          -0.028665781021118164,
          0.07165417075157166,
          0.03981119394302368,
          0.02874070405960083,
          -0.03543388843536377,
          -0.006414055824279785,
          0.015307366847991943,
          0.0721094012260437,
          0.03498542308807373,
          0.0025930404663085938,
          0.014013051986694336,
          -0.07514870166778564,
          -0.06379008293151855,
          -0.03960824012756348,
          -0.02152007818222046,
          -0.0714123547077179,
          -0.09766662120819092,
          -0.15768137574195862,
          -0.2002306580543518,
          -0.16551807522773743,
          -0.14776629209518433,
          -0.1864466667175293,
          -0.09742683172225952,
          -0.1657480001449585,
          -0.1339389681816101,
          -0.1490090787410736,
          -0.06865283846855164,
          -0.057330548763275146,
          0.02008742094039917,
          -0.0061057209968566895,
          0.001262366771697998,
          0.05226200819015503,
          0.10516732931137085,
          0.06116354465484619,
          0.10966449975967407,
          0.15894508361816406,
          0.13440591096878052,
          0.16911780834197998,
          0.14395445585250854,
          0.14847218990325928,
          0.10129803419113159,
          0.1062157154083252,
          0.09500652551651001,
          0.0872267484664917,
          0.11712914705276489,
          0.04552257061004639,
          -0.033605992794036865,
          0.026489973068237305,
          0.057661354541778564,
          0.030498087406158447,
          -0.12020450830459595,
          -0.09575790166854858,
          -0.12888073921203613,
          -0.07401424646377563,
          -0.06819713115692139,
          -0.07617694139480591,
          -0.06482166051864624,
          -0.10760623216629028,
          -0.05342531204223633,
          0.023725807666778564,
          -0.0680159330368042,
          -0.03673166036605835,
          0.0597262978553772,
          -0.015115737915039062,
          -0.020462095737457275,
          -0.014379441738128662,
          -0.032452404499053955,
          -0.007643997669219971,
          -0.1275649070739746,
          -0.031917035579681396,
          -0.07500892877578735,
          0.02288818359375,
          0.01597726345062256,
          -0.026467442512512207,
          -0.04651921987533569,
          0.025211632251739502,
          0.011773526668548584,
          -0.027917087078094482,
          0.037425220012664795,
          0.02331864833831787,
          0.009763479232788086,
          0.10518401861190796,
          0.09178191423416138,
          0.0737541913986206,
          0.10991358757019043,
          0.113361656665802,
          0.030042052268981934,
          0.09085869789123535,
          0.03583395481109619,
          0.08327615261077881,
          0.09806978702545166,
          -0.0032573342323303223,
          0.031502604484558105,
          -0.04662680625915527,
          -0.05449509620666504,
          -0.15714961290359497,
          -0.14373332262039185,
          -0.09556198120117188,
          -0.06610792875289917,
          -0.034681499004364014,
          -0.12966352701187134,
          -0.09598535299301147,
          -0.07578796148300171,
          -0.01792091131210327,
          0.0646735429763794,
          0.06267434358596802,
          0.19234615564346313,
          0.14415466785430908,
          0.15282434225082397,
          0.08317327499389648,
          0.0986071228981018,
          0.05788522958755493,
          0.12200188636779785,
          -0.011884987354278564,
          -0.015450835227966309,
          -0.12094628810882568,
          -0.07922589778900146,
          -0.14242106676101685,
          -0.1698291301727295,
          -0.1507166624069214,
          -0.1738225817680359,
          -0.17742592096328735,
          -0.061939775943756104,
          -0.016041934490203857,
          -0.05975252389907837,
          0.015214025974273682,
          -0.013457238674163818,
          0.11217230558395386,
          0.05120730400085449,
          0.05145221948623657,
          0.09069603681564331,
          0.11362099647521973,
          0.14075320959091187,
          0.03696441650390625,
          0.023277640342712402,
          -0.00732111930847168,
          0.0214613676071167,
          -0.0977213978767395,
          -0.07859444618225098,
          -0.1257973313331604,
          -0.15468508005142212,
          -0.09097135066986084,
          -0.108853280544281,
          -0.10804665088653564,
          -0.049639880657196045,
          0.03715425729751587,
          0.08777624368667603,
          0.06739550828933716,
          0.07364898920059204,
          0.0738171935081482,
          0.11645597219467163,
          0.035484492778778076,
          0.014133930206298828,
          -0.049122512340545654,
          -0.08170777559280396,
          -0.12808167934417725,
          -0.009466707706451416,
          -0.0560036301612854,
          0.0644766092300415,
          0.0672539472579956,
          0.044426143169403076,
          0.02046680450439453,
          -0.007937312126159668,
          -0.04756760597229004,
          -0.10435980558395386,
          -0.0744544267654419,
          -0.057048916816711426,
          -0.12247002124786377,
          -0.07768911123275757,
          -0.007451295852661133,
          -0.054426610469818115,
          -0.07088673114776611,
          0.011095225811004639,
          -0.027828872203826904,
          -0.01341557502746582,
          0.0070168375968933105,
          -0.08629405498504639,
          -0.02179628610610962,
          0.03847748041152954,
          0.0788004994392395,
          -0.058379530906677246,
          -0.0890623927116394,
          -0.04910629987716675,
          -0.13012582063674927,
          -0.013593494892120361,
          0.007192432880401611,
          0.0186765193939209,
          0.005417943000793457,
          0.009166300296783447,
          0.0238150954246521,
          0.010908067226409912,
          0.010060310363769531,
          -0.01065903902053833,
          0.026339709758758545,
          0.022408008575439453,
          0.046616435050964355,
          0.051840782165527344,
          -0.00248795747756958,
          0.06249070167541504,
          0.06629979610443115,
          -0.007401823997497559,
          -0.015978753566741943,
          0.006498217582702637,
          -0.027646005153656006,
          -0.11707651615142822,
          -0.08590978384017944,
          -0.09519827365875244,
          -0.13463568687438965,
          -0.12872326374053955,
          -0.06642657518386841,
          -0.10719740390777588,
          -0.06189727783203125,
          -0.09883785247802734,
          0.003702700138092041,
          0.10098505020141602,
          0.007728993892669678,
          0.05959123373031616,
          0.13355767726898193,
          0.03176677227020264,
          0.060465335845947266,
          -0.013987362384796143,
          0.01296234130859375,
          -0.15506762266159058,
          -0.07041609287261963,
          -0.10695385932922363,
          -0.03782004117965698,
          -0.04822176694869995,
          -0.05549979209899902,
          0.021366655826568604,
          0.005212903022766113,
          -0.08042192459106445,
          -0.025357306003570557,
          0.06803524494171143,
          0.007512331008911133,
          -0.09703314304351807,
          -0.0940861701965332,
          -0.03499549627304077,
          0.0058588385581970215,
          -0.0813748836517334,
          0.05019068717956543,
          0.04228401184082031,
          0.04467087984085083,
          -0.014329731464385986,
          -0.003953278064727783,
          -0.009122848510742188,
          0.023402154445648193,
          -0.09181129932403564,
          0.05739939212799072,
          -0.007142424583435059,
          0.0701131820678711,
          -0.0688360333442688,
          -0.022277355194091797,
          -0.0254439115524292,
          -0.07177698612213135,
          -0.009731650352478027,
          -0.13512539863586426,
          -0.086098313331604,
          -0.015458106994628906,
          -0.1307668685913086,
          -0.009124040603637695,
          -0.15632057189941406,
          -0.02767646312713623,
          -0.06965851783752441,
          -0.07633483409881592,
          -0.06024467945098877,
          -0.015364646911621094,
          -0.024784564971923828,
          -0.09027349948883057,
          -0.09093832969665527,
          -0.11546772718429565,
          -0.11108207702636719,
          -0.06507319211959839,
          -0.03621917963027954,
          -0.12260717153549194,
          -0.1917141079902649,
          -0.15660208463668823,
          -0.07149732112884521,
          -0.20486927032470703,
          -0.09051024913787842,
          -0.17585432529449463,
          -0.07433855533599854,
          -0.05746781826019287,
          -0.059790968894958496,
          -0.06484395265579224,
          0.007361412048339844,
          -0.03933227062225342,
          0.0887380838394165,
          0.0421595573425293,
          0.11538964509963989,
          0.1593875288963318,
          0.09683823585510254,
          0.034815073013305664,
          -0.011665284633636475,
          -0.1277027726173401,
          -0.10734724998474121,
          -0.19703221321105957,
          -0.2224264144897461,
          -0.2217695116996765,
          -0.24215304851531982,
          -0.3437414765357971,
          -0.2159096598625183,
          -0.2952272295951843,
          -0.1826387643814087,
          -0.1024007797241211,
          -0.12121886014938354,
          -0.1352919340133667,
          -0.09803831577301025,
          -0.14413446187973022,
          -0.0010405182838439941,
          0.013205945491790771,
          0.06724971532821655,
          0.03196358680725098,
          0.10483169555664062,
          0.023354649543762207,
          0.015534520149230957,
          -0.04408770799636841,
          -0.05271458625793457,
          -0.10775238275527954,
          -0.09270048141479492,
          -0.06983226537704468,
          -0.1656191349029541,
          -0.09379446506500244,
          -0.21007496118545532,
          -0.10310637950897217,
          -0.05447947978973389,
          0.04194825887680054,
          -0.060382962226867676,
          -0.07375019788742065,
          -0.04835861921310425,
          -0.08898746967315674,
          -0.11489570140838623,
          -0.08215266466140747,
          -0.2094690203666687,
          -0.19453167915344238,
          -0.1144304871559143,
          -0.26191025972366333,
          -0.2015533447265625,
          -0.26377880573272705,
          -0.3005971908569336,
          -0.23707377910614014,
          -0.17016911506652832,
          -0.09110414981842041,
          -0.04460209608078003,
          0.027346134185791016,
          0.02946847677230835,
          -0.12465405464172363,
          0.09106922149658203,
          0.07258987426757812,
          0.10075050592422485,
          -0.1435922384262085,
          -0.05111217498779297,
          -0.06852340698242188,
          -0.14439773559570312,
          -0.06914305686950684,
          -0.13709348440170288,
          -0.22791731357574463,
          -0.2552955746650696,
          -0.17058902978897095,
          -0.18723517656326294,
          -0.31392574310302734,
          -0.2935330867767334,
          -0.20741790533065796,
          -0.2535199522972107,
          -0.23306041955947876,
          -0.10185688734054565,
          -0.22690516710281372,
          -0.08692961931228638,
          -0.03731274604797363,
          -0.08979731798171997,
          -0.20170778036117554,
          -0.14670038223266602,
          -0.005724430084228516,
          -0.06940895318984985,
          -0.015095233917236328,
          -0.0909300446510315,
          -0.11347770690917969,
          -0.24944686889648438,
          -0.16229993104934692,
          -0.0813901424407959,
          -0.15544253587722778,
          -0.05485939979553223,
          -0.1313973069190979,
          -0.1997954249382019,
          -0.01877206563949585,
          -0.07743507623672485,
          -0.02790248394012451,
          -0.08801215887069702,
          -0.015736520290374756,
          -0.09015119075775146,
          -0.10846871137619019,
          -0.18282419443130493,
          -0.118874192237854,
          -0.1328185796737671,
          -0.1369747519493103,
          -0.2471289038658142,
          -0.20158904790878296,
          -0.2914886474609375,
          -0.22123634815216064,
          -0.26514631509780884,
          -0.28537243604660034,
          -0.3455461263656616,
          -0.43699944019317627,
          -0.31832993030548096,
          -0.35370320081710815,
          -0.2240956425666809,
          -0.23560285568237305,
          -0.13392621278762817,
          -0.1258406639099121
         ],
         "yaxis": "y"
        }
       ],
       "layout": {
        "font": {
         "size": 18
        },
        "legend": {
         "orientation": "v",
         "title": {
          "text": ""
         },
         "tracegroupgap": 0
        },
        "margin": {
         "t": 60
        },
        "plot_bgcolor": "#F5F5F8",
        "template": {
         "data": {
          "bar": [
           {
            "error_x": {
             "color": "#2a3f5f"
            },
            "error_y": {
             "color": "#2a3f5f"
            },
            "marker": {
             "line": {
              "color": "white",
              "width": 0.5
             },
             "pattern": {
              "fillmode": "overlay",
              "size": 10,
              "solidity": 0.2
             }
            },
            "type": "bar"
           }
          ],
          "barpolar": [
           {
            "marker": {
             "line": {
              "color": "white",
              "width": 0.5
             },
             "pattern": {
              "fillmode": "overlay",
              "size": 10,
              "solidity": 0.2
             }
            },
            "type": "barpolar"
           }
          ],
          "carpet": [
           {
            "aaxis": {
             "endlinecolor": "#2a3f5f",
             "gridcolor": "#C8D4E3",
             "linecolor": "#C8D4E3",
             "minorgridcolor": "#C8D4E3",
             "startlinecolor": "#2a3f5f"
            },
            "baxis": {
             "endlinecolor": "#2a3f5f",
             "gridcolor": "#C8D4E3",
             "linecolor": "#C8D4E3",
             "minorgridcolor": "#C8D4E3",
             "startlinecolor": "#2a3f5f"
            },
            "type": "carpet"
           }
          ],
          "choropleth": [
           {
            "colorbar": {
             "outlinewidth": 0,
             "ticks": ""
            },
            "type": "choropleth"
           }
          ],
          "contour": [
           {
            "colorbar": {
             "outlinewidth": 0,
             "ticks": ""
            },
            "colorscale": [
             [
              0,
              "#0d0887"
             ],
             [
              0.1111111111111111,
              "#46039f"
             ],
             [
              0.2222222222222222,
              "#7201a8"
             ],
             [
              0.3333333333333333,
              "#9c179e"
             ],
             [
              0.4444444444444444,
              "#bd3786"
             ],
             [
              0.5555555555555556,
              "#d8576b"
             ],
             [
              0.6666666666666666,
              "#ed7953"
             ],
             [
              0.7777777777777778,
              "#fb9f3a"
             ],
             [
              0.8888888888888888,
              "#fdca26"
             ],
             [
              1,
              "#f0f921"
             ]
            ],
            "type": "contour"
           }
          ],
          "contourcarpet": [
           {
            "colorbar": {
             "outlinewidth": 0,
             "ticks": ""
            },
            "type": "contourcarpet"
           }
          ],
          "heatmap": [
           {
            "colorbar": {
             "outlinewidth": 0,
             "ticks": ""
            },
            "colorscale": [
             [
              0,
              "#0d0887"
             ],
             [
              0.1111111111111111,
              "#46039f"
             ],
             [
              0.2222222222222222,
              "#7201a8"
             ],
             [
              0.3333333333333333,
              "#9c179e"
             ],
             [
              0.4444444444444444,
              "#bd3786"
             ],
             [
              0.5555555555555556,
              "#d8576b"
             ],
             [
              0.6666666666666666,
              "#ed7953"
             ],
             [
              0.7777777777777778,
              "#fb9f3a"
             ],
             [
              0.8888888888888888,
              "#fdca26"
             ],
             [
              1,
              "#f0f921"
             ]
            ],
            "type": "heatmap"
           }
          ],
          "heatmapgl": [
           {
            "colorbar": {
             "outlinewidth": 0,
             "ticks": ""
            },
            "colorscale": [
             [
              0,
              "#0d0887"
             ],
             [
              0.1111111111111111,
              "#46039f"
             ],
             [
              0.2222222222222222,
              "#7201a8"
             ],
             [
              0.3333333333333333,
              "#9c179e"
             ],
             [
              0.4444444444444444,
              "#bd3786"
             ],
             [
              0.5555555555555556,
              "#d8576b"
             ],
             [
              0.6666666666666666,
              "#ed7953"
             ],
             [
              0.7777777777777778,
              "#fb9f3a"
             ],
             [
              0.8888888888888888,
              "#fdca26"
             ],
             [
              1,
              "#f0f921"
             ]
            ],
            "type": "heatmapgl"
           }
          ],
          "histogram": [
           {
            "marker": {
             "pattern": {
              "fillmode": "overlay",
              "size": 10,
              "solidity": 0.2
             }
            },
            "type": "histogram"
           }
          ],
          "histogram2d": [
           {
            "colorbar": {
             "outlinewidth": 0,
             "ticks": ""
            },
            "colorscale": [
             [
              0,
              "#0d0887"
             ],
             [
              0.1111111111111111,
              "#46039f"
             ],
             [
              0.2222222222222222,
              "#7201a8"
             ],
             [
              0.3333333333333333,
              "#9c179e"
             ],
             [
              0.4444444444444444,
              "#bd3786"
             ],
             [
              0.5555555555555556,
              "#d8576b"
             ],
             [
              0.6666666666666666,
              "#ed7953"
             ],
             [
              0.7777777777777778,
              "#fb9f3a"
             ],
             [
              0.8888888888888888,
              "#fdca26"
             ],
             [
              1,
              "#f0f921"
             ]
            ],
            "type": "histogram2d"
           }
          ],
          "histogram2dcontour": [
           {
            "colorbar": {
             "outlinewidth": 0,
             "ticks": ""
            },
            "colorscale": [
             [
              0,
              "#0d0887"
             ],
             [
              0.1111111111111111,
              "#46039f"
             ],
             [
              0.2222222222222222,
              "#7201a8"
             ],
             [
              0.3333333333333333,
              "#9c179e"
             ],
             [
              0.4444444444444444,
              "#bd3786"
             ],
             [
              0.5555555555555556,
              "#d8576b"
             ],
             [
              0.6666666666666666,
              "#ed7953"
             ],
             [
              0.7777777777777778,
              "#fb9f3a"
             ],
             [
              0.8888888888888888,
              "#fdca26"
             ],
             [
              1,
              "#f0f921"
             ]
            ],
            "type": "histogram2dcontour"
           }
          ],
          "mesh3d": [
           {
            "colorbar": {
             "outlinewidth": 0,
             "ticks": ""
            },
            "type": "mesh3d"
           }
          ],
          "parcoords": [
           {
            "line": {
             "colorbar": {
              "outlinewidth": 0,
              "ticks": ""
             }
            },
            "type": "parcoords"
           }
          ],
          "pie": [
           {
            "automargin": true,
            "type": "pie"
           }
          ],
          "scatter": [
           {
            "fillpattern": {
             "fillmode": "overlay",
             "size": 10,
             "solidity": 0.2
            },
            "type": "scatter"
           }
          ],
          "scatter3d": [
           {
            "line": {
             "colorbar": {
              "outlinewidth": 0,
              "ticks": ""
             }
            },
            "marker": {
             "colorbar": {
              "outlinewidth": 0,
              "ticks": ""
             }
            },
            "type": "scatter3d"
           }
          ],
          "scattercarpet": [
           {
            "marker": {
             "colorbar": {
              "outlinewidth": 0,
              "ticks": ""
             }
            },
            "type": "scattercarpet"
           }
          ],
          "scattergeo": [
           {
            "marker": {
             "colorbar": {
              "outlinewidth": 0,
              "ticks": ""
             }
            },
            "type": "scattergeo"
           }
          ],
          "scattergl": [
           {
            "marker": {
             "colorbar": {
              "outlinewidth": 0,
              "ticks": ""
             }
            },
            "type": "scattergl"
           }
          ],
          "scattermapbox": [
           {
            "marker": {
             "colorbar": {
              "outlinewidth": 0,
              "ticks": ""
             }
            },
            "type": "scattermapbox"
           }
          ],
          "scatterpolar": [
           {
            "marker": {
             "colorbar": {
              "outlinewidth": 0,
              "ticks": ""
             }
            },
            "type": "scatterpolar"
           }
          ],
          "scatterpolargl": [
           {
            "marker": {
             "colorbar": {
              "outlinewidth": 0,
              "ticks": ""
             }
            },
            "type": "scatterpolargl"
           }
          ],
          "scatterternary": [
           {
            "marker": {
             "colorbar": {
              "outlinewidth": 0,
              "ticks": ""
             }
            },
            "type": "scatterternary"
           }
          ],
          "surface": [
           {
            "colorbar": {
             "outlinewidth": 0,
             "ticks": ""
            },
            "colorscale": [
             [
              0,
              "#0d0887"
             ],
             [
              0.1111111111111111,
              "#46039f"
             ],
             [
              0.2222222222222222,
              "#7201a8"
             ],
             [
              0.3333333333333333,
              "#9c179e"
             ],
             [
              0.4444444444444444,
              "#bd3786"
             ],
             [
              0.5555555555555556,
              "#d8576b"
             ],
             [
              0.6666666666666666,
              "#ed7953"
             ],
             [
              0.7777777777777778,
              "#fb9f3a"
             ],
             [
              0.8888888888888888,
              "#fdca26"
             ],
             [
              1,
              "#f0f921"
             ]
            ],
            "type": "surface"
           }
          ],
          "table": [
           {
            "cells": {
             "fill": {
              "color": "#EBF0F8"
             },
             "line": {
              "color": "white"
             }
            },
            "header": {
             "fill": {
              "color": "#C8D4E3"
             },
             "line": {
              "color": "white"
             }
            },
            "type": "table"
           }
          ]
         },
         "layout": {
          "annotationdefaults": {
           "arrowcolor": "#2a3f5f",
           "arrowhead": 0,
           "arrowwidth": 1
          },
          "autotypenumbers": "strict",
          "coloraxis": {
           "colorbar": {
            "outlinewidth": 0,
            "ticks": ""
           }
          },
          "colorscale": {
           "diverging": [
            [
             0,
             "#8e0152"
            ],
            [
             0.1,
             "#c51b7d"
            ],
            [
             0.2,
             "#de77ae"
            ],
            [
             0.3,
             "#f1b6da"
            ],
            [
             0.4,
             "#fde0ef"
            ],
            [
             0.5,
             "#f7f7f7"
            ],
            [
             0.6,
             "#e6f5d0"
            ],
            [
             0.7,
             "#b8e186"
            ],
            [
             0.8,
             "#7fbc41"
            ],
            [
             0.9,
             "#4d9221"
            ],
            [
             1,
             "#276419"
            ]
           ],
           "sequential": [
            [
             0,
             "#0d0887"
            ],
            [
             0.1111111111111111,
             "#46039f"
            ],
            [
             0.2222222222222222,
             "#7201a8"
            ],
            [
             0.3333333333333333,
             "#9c179e"
            ],
            [
             0.4444444444444444,
             "#bd3786"
            ],
            [
             0.5555555555555556,
             "#d8576b"
            ],
            [
             0.6666666666666666,
             "#ed7953"
            ],
            [
             0.7777777777777778,
             "#fb9f3a"
            ],
            [
             0.8888888888888888,
             "#fdca26"
            ],
            [
             1,
             "#f0f921"
            ]
           ],
           "sequentialminus": [
            [
             0,
             "#0d0887"
            ],
            [
             0.1111111111111111,
             "#46039f"
            ],
            [
             0.2222222222222222,
             "#7201a8"
            ],
            [
             0.3333333333333333,
             "#9c179e"
            ],
            [
             0.4444444444444444,
             "#bd3786"
            ],
            [
             0.5555555555555556,
             "#d8576b"
            ],
            [
             0.6666666666666666,
             "#ed7953"
            ],
            [
             0.7777777777777778,
             "#fb9f3a"
            ],
            [
             0.8888888888888888,
             "#fdca26"
            ],
            [
             1,
             "#f0f921"
            ]
           ]
          },
          "colorway": [
           "#636efa",
           "#EF553B",
           "#00cc96",
           "#ab63fa",
           "#FFA15A",
           "#19d3f3",
           "#FF6692",
           "#B6E880",
           "#FF97FF",
           "#FECB52"
          ],
          "font": {
           "color": "#2a3f5f"
          },
          "geo": {
           "bgcolor": "white",
           "lakecolor": "white",
           "landcolor": "white",
           "showlakes": true,
           "showland": true,
           "subunitcolor": "#C8D4E3"
          },
          "hoverlabel": {
           "align": "left"
          },
          "hovermode": "closest",
          "mapbox": {
           "style": "light"
          },
          "paper_bgcolor": "white",
          "plot_bgcolor": "white",
          "polar": {
           "angularaxis": {
            "gridcolor": "#EBF0F8",
            "linecolor": "#EBF0F8",
            "ticks": ""
           },
           "bgcolor": "white",
           "radialaxis": {
            "gridcolor": "#EBF0F8",
            "linecolor": "#EBF0F8",
            "ticks": ""
           }
          },
          "scene": {
           "xaxis": {
            "backgroundcolor": "white",
            "gridcolor": "#DFE8F3",
            "gridwidth": 2,
            "linecolor": "#EBF0F8",
            "showbackground": true,
            "ticks": "",
            "zerolinecolor": "#EBF0F8"
           },
           "yaxis": {
            "backgroundcolor": "white",
            "gridcolor": "#DFE8F3",
            "gridwidth": 2,
            "linecolor": "#EBF0F8",
            "showbackground": true,
            "ticks": "",
            "zerolinecolor": "#EBF0F8"
           },
           "zaxis": {
            "backgroundcolor": "white",
            "gridcolor": "#DFE8F3",
            "gridwidth": 2,
            "linecolor": "#EBF0F8",
            "showbackground": true,
            "ticks": "",
            "zerolinecolor": "#EBF0F8"
           }
          },
          "shapedefaults": {
           "line": {
            "color": "#2a3f5f"
           }
          },
          "ternary": {
           "aaxis": {
            "gridcolor": "#DFE8F3",
            "linecolor": "#A2B1C6",
            "ticks": ""
           },
           "baxis": {
            "gridcolor": "#DFE8F3",
            "linecolor": "#A2B1C6",
            "ticks": ""
           },
           "bgcolor": "white",
           "caxis": {
            "gridcolor": "#DFE8F3",
            "linecolor": "#A2B1C6",
            "ticks": ""
           }
          },
          "title": {
           "x": 0.05
          },
          "xaxis": {
           "automargin": true,
           "gridcolor": "#EBF0F8",
           "linecolor": "#EBF0F8",
           "ticks": "",
           "title": {
            "standoff": 15
           },
           "zerolinecolor": "#EBF0F8",
           "zerolinewidth": 2
          },
          "yaxis": {
           "automargin": true,
           "gridcolor": "#EBF0F8",
           "linecolor": "#EBF0F8",
           "ticks": "",
           "title": {
            "standoff": 15
           },
           "zerolinecolor": "#EBF0F8",
           "zerolinewidth": 2
          }
         }
        },
        "title": {
         "text": "CTGAN loss function"
        },
        "xaxis": {
         "anchor": "y",
         "domain": [
          0,
          1
         ],
         "title": {
          "text": "Epoch"
         }
        },
        "yaxis": {
         "anchor": "x",
         "domain": [
          0,
          1
         ],
         "title": {
          "text": "Loss"
         }
        }
       }
      }
     },
     "metadata": {},
     "output_type": "display_data"
    }
   ],
   "source": [
    "#Plot the loss values\n",
    "import plotly.io as pio\n",
    "fig = ganSynthesizer.get_loss_values_plot()\n",
    "fig.show()"
   ]
  },
  {
   "cell_type": "code",
   "execution_count": 40,
   "metadata": {},
   "outputs": [
    {
     "name": "stdout",
     "output_type": "stream",
     "text": [
      "           Id  O_score  C_score  E_score  A_score  N_score  \\\n",
      "8     9391254     6.54     8.66     4.98     4.78     6.46   \n",
      "77    2564209     7.24     6.41     8.02     7.24     6.53   \n",
      "188    820952     6.40     8.56     3.58     4.34     3.89   \n",
      "313  11642445     5.78     3.56     5.95     6.00     2.89   \n",
      "464   6415208     7.48     8.11     4.51     6.00     5.83   \n",
      "511   4603024     6.79     8.58     3.46     6.94     6.06   \n",
      "608  13957892     8.14     9.06     5.37     3.23     4.22   \n",
      "695    656010     6.99     8.23     2.89     6.54     6.35   \n",
      "805  10357702     8.44     5.46     9.34     3.23     4.54   \n",
      "843  15017269     8.90     6.68     4.48     8.58     5.86   \n",
      "\n",
      "     Numerical Aptitude  Spatial Aptitude  Perceptual Aptitude  \\\n",
      "8                  9.45              5.34                 4.93   \n",
      "77                 9.45              6.11                 9.15   \n",
      "188                7.75              3.10                 6.81   \n",
      "313                8.65              2.81                 3.90   \n",
      "464                8.51              5.19                 9.34   \n",
      "511                4.12              5.53                 7.29   \n",
      "608                5.25              6.45                 7.10   \n",
      "695                9.01              6.22                 3.01   \n",
      "805                4.90              5.72                 5.83   \n",
      "843                7.55              7.25                 9.34   \n",
      "\n",
      "     Abstract Reasoning  Verbal Reasoning     Career  \n",
      "8                  5.20              6.03  Geologist  \n",
      "77                 3.44              5.67  Geologist  \n",
      "188                3.01              8.87  Geologist  \n",
      "313                3.01              6.61  Geologist  \n",
      "464                6.81              8.67  Geologist  \n",
      "511                3.01              7.36  Geologist  \n",
      "608                3.26              5.62  Geologist  \n",
      "695                6.28              9.30  Geologist  \n",
      "805                3.76              7.06  Geologist  \n",
      "843                8.98              7.33  Geologist  \n"
     ]
    }
   ],
   "source": [
    "#Check the synthetic data\n",
    "print(gan_synthetic_data[gan_synthetic_data['Career'] == 'Geologist'])"
   ]
  },
  {
   "cell_type": "code",
   "execution_count": 41,
   "metadata": {},
   "outputs": [],
   "source": [
    "#Save the gan synthetic data \n",
    "gan_synthetic_data.to_csv('CareerPredictionGAN.csv', index=True)"
   ]
  }
 ],
 "metadata": {
  "kernelspec": {
   "display_name": "env1",
   "language": "python",
   "name": "python3"
  },
  "language_info": {
   "codemirror_mode": {
    "name": "ipython",
    "version": 3
   },
   "file_extension": ".py",
   "mimetype": "text/x-python",
   "name": "python",
   "nbconvert_exporter": "python",
   "pygments_lexer": "ipython3",
   "version": "3.12.6"
  }
 },
 "nbformat": 4,
 "nbformat_minor": 2
}
